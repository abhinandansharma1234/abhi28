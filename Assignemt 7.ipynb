{
 "cells": [
  {
   "cell_type": "code",
   "execution_count": 8,
   "id": "52e0aa50-a212-493f-b6d8-f2c958d69c00",
   "metadata": {},
   "outputs": [
    {
     "name": "stdin",
     "output_type": "stream",
     "text": [
      "Enter password:  Abhinandan@1234\n"
     ]
    },
    {
     "name": "stdout",
     "output_type": "stream",
     "text": [
      "Invalid Password\n"
     ]
    }
   ],
   "source": [
    "def check_password(password):\n",
    "    upper_count = 0\n",
    "    lower_count = 0\n",
    "    digit_count = 0\n",
    "    special_count = 0\n",
    "\n",
    "    for char in password:\n",
    "        if char.isupper():\n",
    "            upper_count += 1\n",
    "        elif char.islower():\n",
    "            lower_count += 1\n",
    "        elif char.isdigit():\n",
    "            digit_count += 1\n",
    "        elif char in \"!@#$%^&*\":\n",
    "            special_count += 1\n",
    "\n",
    "    if len(password) != 10:\n",
    "        return \"Invalid Password\"\n",
    "    elif upper_count < 2 or lower_count < 2:\n",
    "        return \"Invalid Password\"\n",
    "    elif digit_count == 0 or special_count < 3:\n",
    "        return \"Invalid Password\"\n",
    "    else:\n",
    "        return \"Valid Password\"\n",
    "\n",
    "passwd = input(\"Enter password: \")\n",
    "print(check_password(passwd))"
   ]
  },
  {
   "cell_type": "code",
   "execution_count": 9,
   "id": "567bbcd1-19fb-4c67-a0b1-32d50013feaa",
   "metadata": {},
   "outputs": [
    {
     "name": "stdout",
     "output_type": "stream",
     "text": [
      "Abhinandan\n",
      "Avinash\n",
      "Akash\n"
     ]
    }
   ],
   "source": [
    "names  = [\"Abhinandan\",\"Vishnu\",\"Mansi\",\"Avinash\",\"Akash\"]\n",
    "def myFunc(x):\n",
    "  if x[0] == 'A':\n",
    "    return True\n",
    "  else:\n",
    "    return False\n",
    "\n",
    "adults = filter(myFunc, names)\n",
    "\n",
    "for x in adults:\n",
    "  print(x)\n"
   ]
  },
  {
   "cell_type": "code",
   "execution_count": 25,
   "id": "c38e8161-ba37-45ed-94ac-28de91cd2382",
   "metadata": {},
   "outputs": [
    {
     "name": "stdout",
     "output_type": "stream",
     "text": [
      "2345\n",
      "4567\n",
      "5678\n"
     ]
    }
   ],
   "source": [
    "numbers = [\"Abhinandan\",\"2345\",\"4567\",\"5678\",\"Akash\"]\n",
    "\n",
    "def myFunc(x):\n",
    "    if x.isnumeric():\n",
    "        return True\n",
    "    else:\n",
    "        return False\n",
    "\n",
    "adults = filter(myFunc, numbers)\n",
    "\n",
    "for x in adults:\n",
    "    print(x)"
   ]
  },
  {
   "cell_type": "code",
   "execution_count": 26,
   "id": "7ba209cb-c087-41f2-ba98-3cd1b1932539",
   "metadata": {},
   "outputs": [
    {
     "name": "stdout",
     "output_type": "stream",
     "text": [
      "[('orange', 80), ('mango', 99), ('grapes', 1000)]\n"
     ]
    }
   ],
   "source": [
    "fruits = [(\"mango\", 99), (\"orange\", 80), (\"grapes\", 1000)]\n",
    "\n",
    "sorted_fruits = sorted(fruits, key=lambda x: x[1])\n",
    "\n",
    "print(sorted_fruits)"
   ]
  },
  {
   "cell_type": "code",
   "execution_count": 38,
   "id": "2feaf518-f148-4c7b-9d0b-77bfcab86568",
   "metadata": {},
   "outputs": [
    {
     "name": "stdout",
     "output_type": "stream",
     "text": [
      "[1, 4, 9, 16, 25, 36, 49, 64, 81, 100]\n"
     ]
    }
   ],
   "source": [
    "squared = list(map(lambda x : x ** 2, range(1, 11)))\n",
    "\n",
    "print(squared)"
   ]
  },
  {
   "cell_type": "code",
   "execution_count": 40,
   "id": "9f03cdd7-156e-46e7-bf98-b67e5f791129",
   "metadata": {},
   "outputs": [
    {
     "name": "stdout",
     "output_type": "stream",
     "text": [
      "[1.0, 1.2599210498948732, 1.4422495703074083, 1.5874010519681994, 1.7099759466766968, 1.8171205928321397, 1.912931182772389, 2.0, 2.080083823051904, 2.154434690031884]\n"
     ]
    }
   ],
   "source": [
    "import math\n",
    "cube = list(map(lambda x : pow(x, 1/3), range(1, 11)))\n",
    "\n",
    "print(cube)"
   ]
  },
  {
   "cell_type": "code",
   "execution_count": 41,
   "id": "7d48c00b-7843-4d04-9e3e-92c9d68f090d",
   "metadata": {},
   "outputs": [
    {
     "name": "stdout",
     "output_type": "stream",
     "text": [
      "[False, True, False, True, False, True, False, True, False, True]\n"
     ]
    }
   ],
   "source": [
    "even = list(map(lambda x : x%2 == 0, range(1, 11)))\n",
    "\n",
    "print(even)\n"
   ]
  },
  {
   "cell_type": "code",
   "execution_count": 45,
   "id": "196ecd9f-a916-4364-bfb4-5f5574de0531",
   "metadata": {},
   "outputs": [
    {
     "name": "stdout",
     "output_type": "stream",
     "text": [
      "[1, 3, 5, 7, 9]\n"
     ]
    }
   ],
   "source": [
    "numbers = [1, 2, 3, 4, 5, 6, 7, 8, 9, 10]\n",
    "\n",
    "odd_numbers = list(filter(lambda x: x % 2 != 0, numbers))\n",
    "\n",
    "print(odd_numbers)"
   ]
  },
  {
   "cell_type": "code",
   "execution_count": 46,
   "id": "f68c9a8f-efa7-4444-8f20-de976e85d95b",
   "metadata": {},
   "outputs": [
    {
     "name": "stdout",
     "output_type": "stream",
     "text": [
      "Positive numbers: [1, 2, 3, 4, 5, 6]\n",
      "Negative numbers: [-1, -2, -3, -4, -5]\n"
     ]
    }
   ],
   "source": [
    "numbers = [1,2,3,4,5,6,-1,-2,-3,-4,-5,0]\n",
    "positive_numbers = list(filter(lambda x: x > 0, numbers))\n",
    "negative_numbers = list(filter(lambda x: x < 0, numbers))\n",
    "\n",
    "\n",
    "print(\"Positive numbers:\", positive_numbers)\n",
    "print(\"Negative numbers:\", negative_numbers)"
   ]
  },
  {
   "cell_type": "code",
   "execution_count": null,
   "id": "21b03798-189e-4a82-85cc-d771593aa86c",
   "metadata": {},
   "outputs": [],
   "source": []
  }
 ],
 "metadata": {
  "kernelspec": {
   "display_name": "Python 3 (ipykernel)",
   "language": "python",
   "name": "python3"
  },
  "language_info": {
   "codemirror_mode": {
    "name": "ipython",
    "version": 3
   },
   "file_extension": ".py",
   "mimetype": "text/x-python",
   "name": "python",
   "nbconvert_exporter": "python",
   "pygments_lexer": "ipython3",
   "version": "3.10.8"
  }
 },
 "nbformat": 4,
 "nbformat_minor": 5
}
