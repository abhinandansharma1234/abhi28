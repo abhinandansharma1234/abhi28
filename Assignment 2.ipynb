{
 "cells": [
  {
   "cell_type": "code",
   "execution_count": 10,
   "id": "e31af84b-9bf0-44ef-844c-a84f106fbaac",
   "metadata": {},
   "outputs": [
    {
     "name": "stdin",
     "output_type": "stream",
     "text": [
      "Enter your percentage:  70\n"
     ]
    },
    {
     "name": "stdout",
     "output_type": "stream",
     "text": [
      "Grade C\n"
     ]
    }
   ],
   "source": [
    "marks = float(input(\"Enter your percentage: \"))\n",
    "if marks > 90:\n",
    "    print('Grade A')\n",
    "elif marks > 80 and marks <= 90:\n",
    "    print('Grade B')\n",
    "elif marks >= 60 and marks <= 80:\n",
    "    print('Grade C')\n",
    "else:\n",
    "    print('Grade D')"
   ]
  },
  {
   "cell_type": "code",
   "execution_count": 17,
   "id": "8569cc0c-c4fd-49cc-ab4e-0d0844689b98",
   "metadata": {},
   "outputs": [
    {
     "name": "stdin",
     "output_type": "stream",
     "text": [
      "Enter Cost Price:  70000\n"
     ]
    },
    {
     "name": "stdout",
     "output_type": "stream",
     "text": [
      "road_tax = 0.1\n"
     ]
    }
   ],
   "source": [
    "cost_price = int(input(\"Enter Cost Price: \"))\n",
    "road_tax = 0\n",
    "if cost_price > 100000:\n",
    "    road_tax = 0.15\n",
    "elif cost_price > 50000 and cost_price <= 100000:\n",
    "    road_tax = 0.10\n",
    "else:\n",
    "    road_tax = 0.05\n",
    "print('road_tax =', road_tax)"
   ]
  },
  {
   "cell_type": "code",
   "execution_count": 23,
   "id": "aa34d49e-2d44-4760-80f1-b290ae45d35b",
   "metadata": {},
   "outputs": [
    {
     "name": "stdin",
     "output_type": "stream",
     "text": [
      "Enter your City: Agra\n"
     ]
    },
    {
     "name": "stdout",
     "output_type": "stream",
     "text": [
      "monument = Taj Mahal\n"
     ]
    }
   ],
   "source": [
    "city = input(\"Enter your City:\")\n",
    "monument = ''\n",
    "if city == 'Delhi':\n",
    "    monument = 'Red Fort'\n",
    "if city == 'Agra':\n",
    "    monument = 'Taj Mahal'\n",
    "if city == 'Jaipur':\n",
    "    monument = 'Jal Mahal'\n",
    "print('monument =', monument)"
   ]
  },
  {
   "cell_type": "code",
   "execution_count": 25,
   "id": "94550008-aeff-4934-9749-71765c176655",
   "metadata": {},
   "outputs": [
    {
     "name": "stdin",
     "output_type": "stream",
     "text": [
      "Enter a number:  90\n"
     ]
    },
    {
     "name": "stdout",
     "output_type": "stream",
     "text": [
      "The number can be divided by 3 2 times.\n"
     ]
    }
   ],
   "source": [
    "number = int(input(\"Enter a number: \"))\n",
    "count = 0\n",
    "while number > 10:\n",
    "    number = number / 3\n",
    "    count += 1\n",
    "print(\"The number can be divided by 3\", count, \"times.\")"
   ]
  },
  {
   "cell_type": "code",
   "execution_count": 27,
   "id": "8294ab0c-446a-4abd-816a-bb3b1183f6b6",
   "metadata": {},
   "outputs": [
    {
     "name": "stdin",
     "output_type": "stream",
     "text": [
      "Enter a positive integer:  24\n"
     ]
    },
    {
     "name": "stdout",
     "output_type": "stream",
     "text": [
      "The sum of natural numbers from 1 to 24 is 300\n"
     ]
    }
   ],
   "source": [
    "A while loop in Python is used to repeat a block of code as long as a given condition is true. The condition is tested at the beginning of each iteration. If the condition is True, the code inside the loop will be executed, and the condition will be tested again. The loop continues to execute as long as the condition remains True.\n",
    "Here's an example that demonstrates how to use a while loop in Python:\n",
    "num = int(input(\"Enter a positive integer: \"))\n",
    "sum = 0\n",
    "i = 1\n",
    "while i <= num:\n",
    "    sum = sum + i\n",
    "    i = i + 1\n",
    "print(\"The sum of natural numbers from 1 to\", num, \"is\", sum)"
   ]
  },
  {
   "cell_type": "code",
   "execution_count": 35,
   "id": "2444a168-af46-4ded-98a3-92ef16c3ba83",
   "metadata": {},
   "outputs": [
    {
     "name": "stdout",
     "output_type": "stream",
     "text": [
      "10\n",
      "9\n",
      "8\n",
      "7\n",
      "6\n",
      "5\n",
      "4\n",
      "3\n",
      "2\n",
      "1\n"
     ]
    }
   ],
   "source": [
    "i = 10\n",
    "while i >=1:\n",
    "    print(i)\n",
    "    i = i - 1"
   ]
  },
  {
   "cell_type": "code",
   "execution_count": null,
   "id": "3c3d3867-7e6a-4a60-bdf7-0dce34c5efae",
   "metadata": {},
   "outputs": [],
   "source": []
  }
 ],
 "metadata": {
  "kernelspec": {
   "display_name": "Python 3 (ipykernel)",
   "language": "python",
   "name": "python3"
  },
  "language_info": {
   "codemirror_mode": {
    "name": "ipython",
    "version": 3
   },
   "file_extension": ".py",
   "mimetype": "text/x-python",
   "name": "python",
   "nbconvert_exporter": "python",
   "pygments_lexer": "ipython3",
   "version": "3.10.8"
  }
 },
 "nbformat": 4,
 "nbformat_minor": 5
}
