{
 "cells": [
  {
   "cell_type": "code",
   "execution_count": null,
   "id": "3ba18d8c-e5b0-455c-931d-88e42edaa755",
   "metadata": {},
   "outputs": [],
   "source": [
    "Class in object-oriented programming is a blueprint or template that describes the data and behaviors that objects of the class will have. It defines the properties (data) and methods (functions) of the objects created from the class.\n",
    "\n",
    "An Object is an instance of a class, created at runtime. It contains the state and behavior defined by the class. The state represents the data (property values) and behavior represents the methods that manipulate that data.\n",
    "\n",
    "For example, consider a \"Car\" class. The class might have properties like make, model, year, color, and methods like start, stop, drive, park. An object of the class \"Car\" would be a specific car, such as a \"Toyota Camry 2020, Red\".\n",
    "\n",
    "So in this example, \"Car\" is a class and \"Toyota Camry 2020, Red\" is an object of the class \"Car\"."
   ]
  },
  {
   "cell_type": "code",
   "execution_count": null,
   "id": "9d4144ea-d16f-46a0-bc66-20be270ab79c",
   "metadata": {},
   "outputs": [],
   "source": [
    "The four pillars of Object-Oriented Programming (OOP) are:\n",
    "\n",
    "Encapsulation: The process of hiding implementation details and exposing only necessary information to the user. It helps in preventing unauthorized access to the code and data, making it more secure.\n",
    "\n",
    "Abstraction: The act of representing essential features without including the background details. It helps in simplifying complex systems and improves code readability.\n",
    "\n",
    "Inheritance: The mechanism that allows creating a new class from an existing class by inheriting its properties and methods. It helps in creating new classes with improved or specialized functionality.\n",
    "\n",
    "Polymorphism: The ability of objects to take on many forms. It allows objects of different classes to be treated as objects of the same class, making code more flexible and adaptable to changing requirements."
   ]
  },
  {
   "cell_type": "code",
   "execution_count": null,
   "id": "2528d315-9f2e-4384-905f-cc0e360895b7",
   "metadata": {},
   "outputs": [],
   "source": [
    "The __init__() function in Python is a special method known as a constructor. It is automatically called when an object of a class is created and is used to initialize the attributes of the class. The __init__() function takes the newly created object as its first argument and any additional arguments that you pass when creating the object.\n",
    "\n",
    "Here is an example of using the __init__() method to initialize attributes for a class Person:\n",
    "class Person:\n",
    "    def __init__(self, name, age):\n",
    "        self.name = name\n",
    "        self.age = age\n",
    "\n",
    "person = Person(\"Abhinandan\", 25)\n",
    "print(person.name)\n",
    "print(person.age)"
   ]
  },
  {
   "cell_type": "code",
   "execution_count": null,
   "id": "f971e444-0e7e-4997-9aa9-30b027a4f619",
   "metadata": {},
   "outputs": [],
   "source": [
    "In Object-Oriented Programming (OOP), self is a reference to the instance of the class on which a method is being called. It is a conventional name used in Python, but other programming languages use different names such as this or object.\n",
    "\n",
    "The purpose of using self is to allow instances of the class to access and modify their own properties and methods. When a method is called on an instance of the class, the instance itself is automatically passed as the first argument to the method, and the conventional name for that argument is self.\n",
    "\n",
    "Here is an example of using self in a class Person:\n",
    "    class Person:\n",
    "    def __init__(self, name, age):\n",
    "        self.name = name\n",
    "        self.age = age\n",
    "\n",
    "    def introduce(self):\n",
    "        return \"Hi, my name is \" + self.name\n",
    "\n",
    "person = Person(\"Abhinandan\", 25)\n",
    "print(person.introduce())"
   ]
  },
  {
   "cell_type": "code",
   "execution_count": null,
   "id": "9e5466b0-e23d-4923-8c44-c5d615e3dd23",
   "metadata": {},
   "outputs": [],
   "source": [
    "Inheritance is a mechanism in object-oriented programming that allows a new class to be derived from an existing class by inheriting its attributes and behaviors. In Python, inheritance is achieved by passing the base class as an argument to the derived class. The derived class is then able to inherit and extend the attributes and behaviors of the base class. This helps to reduce the amount of code duplication and improves the code reuse."
   ]
  },
  {
   "cell_type": "code",
   "execution_count": null,
   "id": "ac98c7e0-3c0e-42fd-b8c1-1d604d3ba476",
   "metadata": {},
   "outputs": [],
   "source": []
  },
  {
   "cell_type": "code",
   "execution_count": null,
   "id": "91e7d676-7927-485a-9439-0ff50182fb8f",
   "metadata": {},
   "outputs": [],
   "source": []
  },
  {
   "cell_type": "code",
   "execution_count": null,
   "id": "202df886-8d7e-4a4b-80a6-a23ac2e62c35",
   "metadata": {},
   "outputs": [],
   "source": []
  },
  {
   "cell_type": "code",
   "execution_count": null,
   "id": "98c5ec2f-4c83-4c5a-a606-65d28c6959cc",
   "metadata": {},
   "outputs": [],
   "source": []
  },
  {
   "cell_type": "code",
   "execution_count": null,
   "id": "9f5441e4-4fad-4d97-93b8-dd9a597c9e58",
   "metadata": {},
   "outputs": [],
   "source": []
  },
  {
   "cell_type": "code",
   "execution_count": null,
   "id": "ff7b8cc4-1044-4adc-9e76-3460e3ab08b6",
   "metadata": {},
   "outputs": [],
   "source": []
  }
 ],
 "metadata": {
  "kernelspec": {
   "display_name": "Python 3 (ipykernel)",
   "language": "python",
   "name": "python3"
  },
  "language_info": {
   "codemirror_mode": {
    "name": "ipython",
    "version": 3
   },
   "file_extension": ".py",
   "mimetype": "text/x-python",
   "name": "python",
   "nbconvert_exporter": "python",
   "pygments_lexer": "ipython3",
   "version": "3.10.8"
  }
 },
 "nbformat": 4,
 "nbformat_minor": 5
}
