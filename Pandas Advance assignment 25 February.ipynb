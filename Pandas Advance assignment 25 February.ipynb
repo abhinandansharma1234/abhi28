{
 "cells": [
  {
   "cell_type": "code",
   "execution_count": null,
   "id": "4c031c98-6cc5-4d9f-9294-b65b43ef8d47",
   "metadata": {},
   "outputs": [],
   "source": [
    "Answer-1-Here are five common functions of the pandas library with examples:\n",
    "\n",
    "read_csv() - used to read data from a CSV file and create a DataFrame object.\n",
    "import pandas as pd\n",
    "\n",
    "# Read CSV file into DataFrame\n",
    "data = pd.read_csv(\"mydata.csv\")\n",
    "print(data.head())\n",
    "groupby() - used to group data in a DataFrame by one or more columns and perform aggregation\n",
    "import pandas as pd\n",
    "\n",
    "# Read CSV file into DataFrame\n",
    "data = pd.read_csv(\"mydata.csv\")\n",
    "\n",
    "# Group data by 'Region' column and calculate mean 'Sales'\n",
    "region_sales = data.groupby('Region')['Sales'].mean()\n",
    "print(region_sales)\n",
    "fillna() - used to fill missing values in a DataFrame with a specified value or method\n",
    "import pandas as pd\n",
    "\n",
    "# Read CSV file into DataFrame\n",
    "data = pd.read_csv(\"mydata.csv\")\n",
    "\n",
    "# Fill missing values in 'Sales' column with mean\n",
    "mean_sales = data['Sales'].mean()\n",
    "data['Sales'].fillna(mean_sales, inplace=True)\n",
    "print(data.head())\n",
    "merge() - used to merge two or more DataFrames based on a common column(s)\n",
    "import pandas as pd\n",
    "\n",
    "# Read CSV files into DataFrames\n",
    "orders = pd.read_csv(\"orders.csv\")\n",
    "customers = pd.read_csv(\"customers.csv\")\n",
    "\n",
    "# Merge DataFrames on 'CustomerID' column\n",
    "merged_data = pd.merge(orders, customers, on='CustomerID')\n",
    "print(merged_data.head())\n",
    "pivot_table() - used to create a pivot table from a DataFrame, which summarizes and aggregates data\n",
    "import pandas as pd\n",
    "\n",
    "# Read CSV file into DataFrame\n",
    "data = pd.read_csv(\"mydata.csv\")\n",
    "\n",
    "# Create pivot table with mean 'Sales' by 'Region' and 'Category'\n",
    "pivot_data = pd.pivot_table(data, values='Sales', index='Region', columns='Category', aggfunc='mean')\n",
    "print(pivot_data)\n"
   ]
  },
  {
   "cell_type": "code",
   "execution_count": null,
   "id": "e2cd6f07-0d97-4045-9240-cdbff731ba51",
   "metadata": {},
   "outputs": [],
   "source": [
    "Answer 4-import pandas as pd\n",
    "\n",
    "def add_word_count(df):\n",
    "    # Create new column 'Word_Count' with number of words in each row of 'Text'\n",
    "    df['Word_Count'] = df['Text'].apply(lambda x: len(str(x).split()))\n",
    "\n",
    "    return df"
   ]
  },
  {
   "cell_type": "code",
   "execution_count": null,
   "id": "e1241367-708b-43cb-ba1b-b4a5cd0660a7",
   "metadata": {},
   "outputs": [],
   "source": [
    "Answer 5-Both DataFrame.size and DataFrame.shape are attributes of a Pandas DataFrame object that provide information about the size and shape of the DataFrame, but they differ in the information they provide.\n",
    "\n",
    "DataFrame.size returns the total number of elements in the DataFrame, which is equivalent to the number of rows times the number of columns. It is a single integer value.\n",
    "\n",
    "DataFrame.shape returns a tuple of the number of rows and columns in the DataFrame, in that order. For example, if a DataFrame has 10 rows and 3 columns, DataFrame.shape will return (10, 3)."
   ]
  },
  {
   "cell_type": "code",
   "execution_count": null,
   "id": "cfc33a38-b1d9-4552-a9b3-249533c64fa5",
   "metadata": {},
   "outputs": [],
   "source": [
    "Answer 6-To read an Excel file in pandas, we can use the read_excel() function."
   ]
  },
  {
   "cell_type": "code",
   "execution_count": null,
   "id": "bf80e912-bc1c-48fb-b8a8-0c58308366b8",
   "metadata": {},
   "outputs": [],
   "source": [
    "Answer7-import pandas as pd\n",
    "\n",
    "def extract_username(df):\n",
    "    # Extract username from email address and store in new column 'Username'\n",
    "    df['Username'] = df['Email'].str.split('@').str[0]\n",
    "\n",
    "    return df"
   ]
  },
  {
   "cell_type": "code",
   "execution_count": null,
   "id": "f8214cfe-c798-406a-9c98-d24184f2fcc0",
   "metadata": {},
   "outputs": [],
   "source": [
    "Answer8-import pandas as pd\n",
    "\n",
    "def select_rows(df):\n",
    "    # Select rows where A > 5 and B < 10\n",
    "    selected_rows = df[(df['A'] > 5) & (df['B'] < 10)]\n",
    "    \n",
    "    return selected_rows\n",
    "data = {'A': [3, 8, 6, 2, 9], 'B': [5, 2, 9, 3, 1], 'C': [1, 7, 4, 5, 2]}\n",
    "df = pd.DataFrame(data)\n",
    "\n",
    "# Select rows where A > 5 and B < 10\n",
    "selected_rows = select_rows(df)\n",
    "\n",
    "# Print selected rows\n",
    "print(selected_rows)"
   ]
  },
  {
   "cell_type": "code",
   "execution_count": null,
   "id": "457c1453-3530-41c2-b986-cba85db01791",
   "metadata": {},
   "outputs": [],
   "source": [
    "Anwer 12-import pandas as pd\n",
    "\n",
    "def select_rows_by_date(df):\n",
    "    # Convert 'Date' column to datetime format\n",
    "    df['Date'] = pd.to_datetime(df['Date'])\n",
    "\n",
    "    # Select rows where date is between '2023-01-01' and '2023-01-31'\n",
    "    selected_rows = df[(df['Date'] >= '2023-01-01') & (df['Date'] <= '2023-01-31')]\n",
    "\n",
    "    return selected_rows"
   ]
  },
  {
   "cell_type": "code",
   "execution_count": null,
   "id": "1cb338e6-ae68-4590-9db6-d345a5064663",
   "metadata": {},
   "outputs": [],
   "source": [
    "The first and foremost necessary library that needs to be imported to use the basic functions of pandas is the pandas library itself. We typically import pandas using the standard alias \"pd\". Here's an example:\n",
    "\n",
    "python\n",
    "\n",
    "impoer pandas as pd\n"
   ]
  },
  {
   "cell_type": "code",
   "execution_count": null,
   "id": "23fdc3c5-e98c-4dcc-83c9-a5be9bf6003f",
   "metadata": {},
   "outputs": [],
   "source": []
  },
  {
   "cell_type": "code",
   "execution_count": null,
   "id": "b41b45fd-16ad-471d-9468-5a3e8fa328aa",
   "metadata": {},
   "outputs": [],
   "source": []
  }
 ],
 "metadata": {
  "kernelspec": {
   "display_name": "Python 3 (ipykernel)",
   "language": "python",
   "name": "python3"
  },
  "language_info": {
   "codemirror_mode": {
    "name": "ipython",
    "version": 3
   },
   "file_extension": ".py",
   "mimetype": "text/x-python",
   "name": "python",
   "nbconvert_exporter": "python",
   "pygments_lexer": "ipython3",
   "version": "3.10.8"
  }
 },
 "nbformat": 4,
 "nbformat_minor": 5
}
