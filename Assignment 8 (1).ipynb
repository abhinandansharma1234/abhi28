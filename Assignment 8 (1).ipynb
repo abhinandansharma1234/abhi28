{
 "cells": [
  {
   "cell_type": "code",
   "execution_count": 2,
   "id": "bdd9a8e0-249b-41d1-a483-69f8318bd594",
   "metadata": {},
   "outputs": [
    {
     "name": "stdout",
     "output_type": "stream",
     "text": [
      "Car\n",
      "120\n",
      "15\n"
     ]
    }
   ],
   "source": [
    "class Vehicle:\n",
    "    def __init__(self, name_of_vehicle, max_speed, average_of_vehicle):\n",
    "        self.name_of_vehicle = name_of_vehicle\n",
    "        self.max_speed = max_speed\n",
    "        self.average_of_vehicle = average_of_vehicle\n",
    "\n",
    "car = Vehicle(\"Car\", 120, 15)\n",
    "print(car.name_of_vehicle)\n",
    "print(car.max_speed)\n",
    "print(car.average_of_vehicle)"
   ]
  },
  {
   "cell_type": "code",
   "execution_count": null,
   "id": "13d806ab-4e8d-4fb6-a4a7-f8121daf2634",
   "metadata": {},
   "outputs": [],
   "source": [
    "Multiple inheritance is a feature in object-oriented programming languages that allows a class to inherit properties and behavior from multiple parent classes. This means that a single child class can inherit attributes and methods from multiple parent classes.\n",
    "\n",
    "Here's an example of multiple inheritance in Python:\n",
    "\n",
    "class Vehicle:\n",
    "    def __init__(self, name_of_vehicle, max_speed, average_of_vehicle):\n",
    "        self.name_of_vehicle = name_of_vehicle\n",
    "        self.max_speed = max_speed\n",
    "        self.average_of_vehicle = average_of_vehicle\n",
    "\n",
    "class Engine:\n",
    "    def __init__(self, engine_type, horse_power):\n",
    "        self.engine_type = engine_type\n",
    "        self.horse_power = horse_power\n",
    "\n",
    "class Car(Vehicle, Engine):\n",
    "    def __init__(self, name_of_vehicle, max_speed, average_of_vehicle, engine_type, horse_power, capacity):\n",
    "        Vehicle.__init__(self, name_of_vehicle, max_speed, average_of_vehicle)\n",
    "        Engine.__init__(self, engine_type, horse_power)\n",
    "        self.capacity = capacity"
   ]
  },
  {
   "cell_type": "code",
   "execution_count": null,
   "id": "b034e5cb-0302-48a4-8a8f-11b20394e092",
   "metadata": {},
   "outputs": [],
   "source": [
    "Getters and setters are methods that provide access to an object's properties. In Python, getters and setters are commonly used to control the access to an object's attributes. Getters are used to retrieve the value of an attribute, while setters are used to set the value of an attribute.\n",
    "\n",
    "Here's an example of a class with getters and setters:\n",
    "class Person:\n",
    "    def __init__(self, name, age):\n",
    "        self.__name = name\n",
    "        self.__age = age\n",
    "\n",
    "    def get_name(self):\n",
    "        return self.__name\n",
    "\n",
    "    def set_name(self, name):\n",
    "        self.__name = name\n",
    "\n",
    "    def get_age(self):\n",
    "        return self.__age\n",
    "\n",
    "    def set_age(self, age):\n",
    "        self.__age = age\n",
    "\n",
    "person = Person(\"Abhinandan Sharma\", 25)\n",
    "print(person.get_name()) \n",
    "person.set_name(\"Abhinandan Sharma\")\n",
    "print(person.get_name()) \n",
    "print(person.get_age()) \n",
    "person.set_age(35)\n",
    "print(person.get_age())"
   ]
  },
  {
   "cell_type": "code",
   "execution_count": null,
   "id": "7dbff712-8b74-4098-975f-e900f42c25fc",
   "metadata": {},
   "outputs": [],
   "source": [
    "Method overriding is a feature in Object-Oriented Programming (OOP) where a subclass provides a different implementation for a method that is already defined in its superclass. The purpose of method overriding is to change the behavior of a method in a subclass to make it more specific to the needs of that subclass.\n",
    "\n",
    "Here is an example of method overriding in Python:\n",
    "    class Animal:\n",
    "    def make_sound(self):\n",
    "        print(\"Animal makes a sound\")\n",
    "\n",
    "class Dog(Animal):\n",
    "    def make_sound(self):\n",
    "        print(\"Dog barks\")\n",
    "\n",
    "dog = Dog()\n",
    "dog.make_sound()"
   ]
  },
  {
   "cell_type": "code",
   "execution_count": null,
   "id": "f4fdad32-6151-4d64-abef-dbddff77655e",
   "metadata": {},
   "outputs": [],
   "source": []
  },
  {
   "cell_type": "code",
   "execution_count": null,
   "id": "c26cef1a-bcbd-4c0f-bd2f-54c4b7f628c4",
   "metadata": {},
   "outputs": [],
   "source": []
  },
  {
   "cell_type": "code",
   "execution_count": null,
   "id": "b3ab7b8c-0c0b-4775-b6fa-4bfdd363390a",
   "metadata": {},
   "outputs": [],
   "source": []
  },
  {
   "cell_type": "code",
   "execution_count": null,
   "id": "e72891b1-10af-487b-9c71-41027c05ae1b",
   "metadata": {},
   "outputs": [],
   "source": []
  },
  {
   "cell_type": "code",
   "execution_count": null,
   "id": "a930856b-0470-436d-85f2-21139f349a01",
   "metadata": {},
   "outputs": [],
   "source": []
  },
  {
   "cell_type": "code",
   "execution_count": null,
   "id": "2786da5f-679c-44a4-8633-abd5dca428f5",
   "metadata": {},
   "outputs": [],
   "source": []
  }
 ],
 "metadata": {
  "kernelspec": {
   "display_name": "Python 3 (ipykernel)",
   "language": "python",
   "name": "python3"
  },
  "language_info": {
   "codemirror_mode": {
    "name": "ipython",
    "version": 3
   },
   "file_extension": ".py",
   "mimetype": "text/x-python",
   "name": "python",
   "nbconvert_exporter": "python",
   "pygments_lexer": "ipython3",
   "version": "3.10.8"
  }
 },
 "nbformat": 4,
 "nbformat_minor": 5
}
