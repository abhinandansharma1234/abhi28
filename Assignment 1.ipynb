{
 "cells": [
  {
   "cell_type": "code",
   "execution_count": null,
   "id": "702e473e-e9e3-4fd4-aa56-6a63c8ac1616",
   "metadata": {},
   "outputs": [],
   "source": [
    "1.Python was created by Guido van Rossum."
   ]
  },
  {
   "cell_type": "code",
   "execution_count": null,
   "id": "ad8e4ad4-d340-4ff8-98d7-11486abe6d50",
   "metadata": {},
   "outputs": [],
   "source": [
    "2.Python supports Dynamic programming."
   ]
  },
  {
   "cell_type": "code",
   "execution_count": null,
   "id": "45abdeef-66b7-42b5-9cae-22e41333eaad",
   "metadata": {},
   "outputs": [],
   "source": [
    "3.Yes python is case sesnitive when dealing with identifiers."
   ]
  },
  {
   "cell_type": "code",
   "execution_count": null,
   "id": "6aa4fc0e-aeef-41a4-8d62-9de63126094a",
   "metadata": {},
   "outputs": [],
   "source": [
    "4.The correct file extension for a Python source file is \".py\"."
   ]
  },
  {
   "cell_type": "code",
   "execution_count": null,
   "id": "f5a5a2aa-bf72-4c57-a58e-5a7cd6a96f7a",
   "metadata": {},
   "outputs": [],
   "source": [
    "5.Python is an interpreted language."
   ]
  },
  {
   "cell_type": "code",
   "execution_count": null,
   "id": "b50b85ea-05f0-4533-9b61-0aa3765af480",
   "metadata": {},
   "outputs": [],
   "source": [
    "6.In Python, there are several blocks of code  including:\n",
    "Functions\n",
    "Classes \n",
    "If-Else statements\n",
    "For and While loops "
   ]
  },
  {
   "cell_type": "code",
   "execution_count": null,
   "id": "cbcdfd27-4e82-4773-90a2-f490e98e9e8a",
   "metadata": {},
   "outputs": [],
   "source": [
    "7.The character used to give single line comments in Python is the pound symbol \"#\"."
   ]
  },
  {
   "cell_type": "code",
   "execution_count": null,
   "id": "63fd613a-4994-4db3-8697-68757a4cdcdb",
   "metadata": {},
   "outputs": [],
   "source": [
    "8.The two functions are sys.version and sys.version_info"
   ]
  },
  {
   "cell_type": "code",
   "execution_count": null,
   "id": "e371974a-1765-4f5e-9170-cffb1536a455",
   "metadata": {},
   "outputs": [],
   "source": [
    "9.In Python, anonymous functions can be created at runtime using the lambda construct. "
   ]
  },
  {
   "cell_type": "code",
   "execution_count": null,
   "id": "6fe204c6-382e-4a96-aa10-1492010c43c0",
   "metadata": {},
   "outputs": [],
   "source": [
    "10.pip\" stands for \"Pip Installs Packages\""
   ]
  },
  {
   "cell_type": "code",
   "execution_count": null,
   "id": "788df282-2d0d-482e-b1f5-c29c98760a8f",
   "metadata": {},
   "outputs": [],
   "source": [
    "11.Here are some of the most commonly used built-in functions in Python:\n",
    "\n",
    "print(): used to print output to the console.\n",
    "\n",
    "len(): returns the length of a string, list, tuple, or other sequence.\n",
    "\n",
    "str(): converts an object to a string representation.\n",
    "\n",
    "int(): converts a string or a floating-point number to an integer.\n",
    "\n",
    "float(): converts a string or an integer to a floating-point number."
   ]
  },
  {
   "cell_type": "code",
   "execution_count": null,
   "id": "4dbebbf9-dfe9-4cf3-9e67-122aa42b5d26",
   "metadata": {},
   "outputs": [],
   "source": [
    "12.In Python, the maximum length of an identifier name is unlimited. "
   ]
  },
  {
   "cell_type": "code",
   "execution_count": null,
   "id": "4ebee915-b12d-423a-9df2-e63f5aed0a2d",
   "metadata": {},
   "outputs": [],
   "source": [
    "13.There are many benefits of using Python, including:\n",
    "\n",
    "Easy to Learn and Use: Python has a simple and straightforward syntax, which makes it easy to learn and understand, even for those who have no prior programming experience.\n",
    "\n",
    "Versatile: Python can be used for a wide range of applications, such as web development, scientific computing, data analysis, artificial intelligence, machine learning, and more.\n",
    "\n",
    "Large Community: Python has a large and active community of developers and users, which means that you can easily find help and support when you need it.\n",
    "\n",
    "Large Standard Library: Python has a large standard library that provides a wide range of modules and packages for various purposes, such as string operations, file handling, and network programming.\n",
    "\n",
    "Dynamic Typing: Python uses dynamic typing, which means that you can change the type of a variable at runtime. This makes it easier to write code that is flexible and can handle different types of data."
   ]
  },
  {
   "cell_type": "code",
   "execution_count": null,
   "id": "4672cd84-dba3-45ce-b5db-c29c840dfc78",
   "metadata": {},
   "outputs": [],
   "source": [
    "14.In Python, memory management is handled automatically by the Python interpreter, using a mechanism called \"reference counting\". "
   ]
  },
  {
   "cell_type": "code",
   "execution_count": null,
   "id": "c6e0b852-5e9d-439d-8186-3e5f41a93265",
   "metadata": {},
   "outputs": [],
   "source": [
    "15.To install Python on Windows and set the path variables, follow these steps:\n",
    "\n",
    "Download the latest version of Python from the official website (https://www.python.org/downloads/).\n",
    "\n",
    "Run the Python installer and follow the prompts to complete the installation process.\n",
    "\n",
    "After the installation is complete, open the Start menu and search for \"Environment Variables\".\n",
    "\n",
    "Click on \"Edit the system environment variables\".\n",
    "\n",
    "Click on the \"Environment Variables\" button.\n",
    "\n",
    "In the \"System Variables\" section, scroll down and find the \"Path\" variable, then click on \"Edit\".\n",
    "\n",
    "Click on \"New\" and add the path to the Python executable (e.g., C:\\PythonXX).\n",
    "\n",
    "Restart your computer for the changes to take effect.\n",
    "\n",
    "Open the Command Prompt and type \"python\" to confirm that the installation was successful and the path variables are set correctly.\n",
    "\n",
    "Note: In the above steps, replace \"XX\" with the version number of Python that you have installed."
   ]
  },
  {
   "cell_type": "code",
   "execution_count": null,
   "id": "fedc3a4d-96eb-44d6-b059-6e81722f2f8a",
   "metadata": {},
   "outputs": [],
   "source": [
    "16.Yes, indentation is required in Python. "
   ]
  }
 ],
 "metadata": {
  "kernelspec": {
   "display_name": "Python 3 (ipykernel)",
   "language": "python",
   "name": "python3"
  },
  "language_info": {
   "codemirror_mode": {
    "name": "ipython",
    "version": 3
   },
   "file_extension": ".py",
   "mimetype": "text/x-python",
   "name": "python",
   "nbconvert_exporter": "python",
   "pygments_lexer": "ipython3",
   "version": "3.10.8"
  }
 },
 "nbformat": 4,
 "nbformat_minor": 5
}
