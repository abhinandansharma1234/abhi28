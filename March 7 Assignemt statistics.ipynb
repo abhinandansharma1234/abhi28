{
 "cells": [
  {
   "cell_type": "code",
   "execution_count": null,
   "id": "8eca4a9a-7d1e-42a6-922e-3b9e61ed3276",
   "metadata": {},
   "outputs": [],
   "source": [
    "The three measures of central tendency are:\n",
    "\n",
    "Mean: The mean is the arithmetic average of a set of numbers. It is calculated by adding up all the numbers in the set and dividing by the total number of values in the set.\n",
    "\n",
    "Median: The median is the middle value in a set of numbers when the numbers are arranged in order from smallest to largest (or largest to smallest). If there is an even number of values in the set, the median is the average of the two middle values.\n",
    "\n",
    "Mode: The mode is the value that occurs most frequently in a set of numbers. If no value appears more than once in the set, then there is no mode. If there are multiple values that occur with the same highest frequency, then there are multiple modes."
   ]
  },
  {
   "cell_type": "code",
   "execution_count": null,
   "id": "502a5256-1280-44d4-8758-d2321b0aa473",
   "metadata": {},
   "outputs": [],
   "source": [
    "The mean, median, and mode are different measures of central tendency, which is a way of describing the \"average\" or \"typical\" value in a dataset. While they are all used to describe central tendency, they are each calculated in a different way and are useful in different situations.\n",
    "\n",
    "The mean is the arithmetic average of a set of numbers. It is calculated by adding up all the values in the dataset and then dividing by the number of values. The mean is a useful measure of central tendency when the dataset is normally distributed, meaning that the values cluster around the middle of the dataset. However, it can be influenced by outliers, which are values that are very different from the rest of the dataset.\n",
    "\n",
    "The median is the middle value in a dataset when the values are arranged in numerical order. It is a useful measure of central tendency when the dataset is skewed, meaning that the values are not evenly distributed. For example, if a dataset has a few very high values that are much larger than the rest of the values, the median will be less influenced by these outliers than the mean.\n",
    "\n",
    "The mode is the value that appears most frequently in a dataset. It is a useful measure of central tendency when the dataset has a clear peak or cluster of values. For example, in a dataset of exam scores where most students received a grade of B, the mode would be a useful measure of central tendency to describe the typical grade received by students.\n",
    "\n"
   ]
  },
  {
   "cell_type": "code",
   "execution_count": null,
   "id": "c9c6dba7-ddb1-4798-9019-caaed0ee91c1",
   "metadata": {},
   "outputs": [],
   "source": [
    "Mean: To calculate the mean, we add up all the values in the dataset and divide by the total number of values:\n",
    "\n",
    "(178 + 177 + 176 + 177 + 178.2 + 178 + 175 + 179 + 180 + 175 + 178.9 + 176.2 + 177 + 172.5 + 178 + 176.5) / 16 = 177.3\n",
    "\n",
    "Therefore, the mean height is approximately 177.3 cm.\n",
    "\n",
    "Median: To calculate the median, we first need to arrange the values in numerical order:\n",
    "\n",
    "172.5, 175, 175, 176, 176.2, 176.5, 177, 177, 178, 178, 178, 178.2, 178.9, 179, 180\n",
    "\n",
    "Since there are an even number of values, we take the average of the two middle values:\n",
    "\n",
    "Median = (177 + 178) / 2 = 177.5\n",
    "\n",
    "Therefore, the median height is approximately 177.5 cm.\n",
    "\n",
    "Mode: To calculate the mode, we need to identify the value that appears most frequently in the dataset. In this case, there are two values that appear twice, which are 175 and 177. There is no value that appears more than twice, so we can say that the dataset has two modes.\n",
    "\n",
    "Therefore, the mode(s) of the height data is 175 and 177 cm.\n",
    "\n",
    "In summary, the mean height is approximately 177.3 cm, the median height is approximately 177.5 cm, and the mode(s) of the height data are 175 cm and 177 cm."
   ]
  },
  {
   "cell_type": "code",
   "execution_count": null,
   "id": "250c9290-7b65-4f3d-ae37-307a05c019e6",
   "metadata": {},
   "outputs": [],
   "source": [
    "To find the standard deviation for the given data, we can use the following formula:\n",
    "\n",
    "s = sqrt [ Σ(x - x̄)² / (n - 1) ]\n",
    "\n",
    "where s is the standard deviation, Σ is the sum of, x is each value in the dataset, x̄ is the mean of the dataset, and n is the total number of values in the dataset.\n",
    "\n",
    "First, we need to calculate the mean of the dataset:\n",
    "\n",
    "x̄ = (178 + 177 + 176 + 177 + 178.2 + 178 + 175 + 179 + 180 + 175 + 178.9 + 176.2 + 177 + 172.5 + 178 + 176.5) / 16\n",
    "= 177.3\n",
    "\n",
    "Next, we can calculate the deviation of each value from the mean:\n",
    "\n",
    "(178 - 177.3), (177 - 177.3), (176 - 177.3), (177 - 177.3), (178.2 - 177.3), (178 - 177.3), (175 - 177.3), (179 - 177.3), (180 - 177.3), (175 - 177.3), (178.9 - 177.3), (176.2 - 177.3), (177 - 177.3), (172.5 - 177.3), (178 - 177.3), (176.5 - 177.3)\n",
    "\n",
    "These deviations are:\n",
    "\n",
    "0.7, -0.3, -1.3, -0.3, 0.9, 0.7, -2.3, 1.7, 2.7, -2.3, 1.6, -1.1, -0.3, -4.8, 0.7, -0.8\n",
    "\n",
    "We square each deviation and add them up:\n",
    "\n",
    "(0.7)²  + (-1.3)² + (-0.3)² + (0.9)² + (0.7)² + (-2.3)² + (1.7)² + (2.7)² + (-2.3)² + (1.6)² + (-1.1)² + (-0.3)² + (-4.8)² + (0.7)² + (-0.8)²\n",
    "\n",
    "= 94.7585\n",
    "\n",
    "Then, we can divide this sum by (n - 1) and take the square root:\n",
    "\n",
    "s = sqrt [ 94.7585 / (16 - 1) ]\n",
    "= sqrt [ 6.2839 ]\n",
    "= 2.507\n",
    "\n",
    "Therefore, the standard deviation for the given data is approximately 2.507."
   ]
  },
  {
   "cell_type": "code",
   "execution_count": null,
   "id": "317c8e00-e4d1-4ed3-8077-2effd9e0bf9f",
   "metadata": {},
   "outputs": [],
   "source": [
    "Measures of dispersion such as range, variance, and standard deviation are used to describe the spread of a dataset by providing information about how the values are distributed around the central tendency.\n",
    "\n",
    "Range: The range is the difference between the highest and lowest values in a dataset. It gives an idea of how widely the values are dispersed in the dataset. For example, if we have a dataset of test scores for a class of students, the range will tell us how much difference there is between the highest and lowest scores. A larger range would suggest that the scores are more spread out, while a smaller range would suggest that the scores are more tightly clustered.\n",
    "\n",
    "Variance: The variance is a measure of how spread out the values in a dataset are from the mean. It gives an idea of how much the values deviate from the central tendency. For example, if we have a dataset of salaries for a company, the variance will tell us how much the salaries differ from the average salary. A larger variance would suggest that the salaries are more spread out, while a smaller variance would suggest that the salaries are more tightly clustered around the mean.\n",
    "\n",
    "Standard deviation: The standard deviation is another measure of how spread out the values in a dataset are from the mean. It is the square root of the variance and is expressed in the same units as the data. It is a more commonly used measure of dispersion as it gives more weight to values that are further from the mean. For example, if we have a dataset of heights for a group of people, the standard deviation will tell us how much the heights vary from the average height. A larger standard deviation would suggest that the heights are more spread out, while a smaller standard deviation would suggest that the heights are more tightly clustered around the mean.\n",
    "\n",
    "In summary, measures of dispersion such as range, variance, and standard deviation are used to describe the spread of a dataset by providing information about how the values are distributed around the central tendency. They help us understand how much variability there is in the data and how spread out the values are from the central tendency."
   ]
  },
  {
   "cell_type": "code",
   "execution_count": null,
   "id": "e6738299-b694-4347-88ce-480f669a7f3a",
   "metadata": {},
   "outputs": [],
   "source": [
    "A Venn diagram is a graphical representation of sets using overlapping circles or other shapes. It is named after the English logician and philosopher John Venn, who introduced the concept in the late 19th century. Venn diagrams are used to visualize relationships between different sets or groups of objects or concepts.\n",
    "\n",
    "In a Venn diagram, each circle represents a set, and the overlapping areas represent the intersection of two or more sets. The elements of the sets are usually represented as points or objects within the circles, and the areas outside the circles represent elements that do not belong to any of the sets."
   ]
  },
  {
   "cell_type": "code",
   "execution_count": null,
   "id": "ec7186e5-c0a2-4da3-9b40-7334d8500797",
   "metadata": {},
   "outputs": [],
   "source": [
    "(i) A ⋂ B (the intersection of A and B) is the set of all elements that belong to both A and B. In other words, it is the set of all common elements in A and B.\n",
    "\n",
    "In this case, the common element between A and B is 2 and 6, so we have:\n",
    "\n",
    "A ⋂ B = {2, 6}\n",
    "\n",
    "(ii) A ⋃ B (the union of A and B) is the set of all elements that belong to either A or B or both.\n",
    "\n",
    "In this case, the elements in A and B are distinct, so the union of A and B contains all the elements from both sets:\n",
    "\n",
    "A ⋃ B = {0, 2, 3, 4, 5, 6, 7, 8, 10}\n",
    "\n",
    "Therefore, the answer is:\n",
    "\n",
    "(i) A ⋂ B = {2, 6}\n",
    "\n",
    "(ii) A ⋃ B = {0, 2, 3, 4, 5, 6, 7, 8, 10}"
   ]
  },
  {
   "cell_type": "code",
   "execution_count": null,
   "id": "78ab9db5-64a1-4773-b50f-81df9072926c",
   "metadata": {},
   "outputs": [],
   "source": [
    "Skewness in data refers to the extent to which a dataset is not symmetrical. In other words, it measures the degree to which the data is skewed or distorted from a symmetrical distribution. Skewness can occur in both positive and negative directions.\n",
    "\n",
    "A dataset is said to be positively skewed if the majority of the data is concentrated on the left side of the distribution, and the tail extends towards the right. This is also known as a right-skewed distribution. On the other hand, a dataset is said to be negatively skewed if the majority of the data is concentrated on the right side of the distribution, and the tail extends towards the left. This is also known as a left-skewed distribution."
   ]
  },
  {
   "cell_type": "code",
   "execution_count": null,
   "id": "ec675a20-487d-4a79-bc16-3d216737d0eb",
   "metadata": {},
   "outputs": [],
   "source": [
    "If a dataset is right-skewed, then the median will be less than the mean.\n",
    "This is because in a right-skewed distribution, the tail of the distribution is longer on the right side, which means that there are some high values that pull the mean towards the right. The median, on the other hand, is less affected by extreme values in the tail of the distribution and is more representative of the \"typical\" value in the dataset. As a result, the median is closer to the center of the distribution, or to the left of the mean, which is pulled towards the right by the high values in the tail."
   ]
  },
  {
   "cell_type": "code",
   "execution_count": null,
   "id": "ed605c06-b45f-449e-a28a-023d766819b7",
   "metadata": {},
   "outputs": [],
   "source": [
    "Covariance and correlation are both measures of the relationship between two variables in a dataset. However, there are some important differences between the two:\n",
    "\n",
    "Definition: Covariance measures how two variables vary together, while correlation measures how two variables are related to each other.\n",
    "\n",
    "Scale: Covariance is measured in the units of the two variables being compared, while correlation is a unitless measure that ranges from -1 to 1.\n",
    "\n",
    "Interpretation: Covariance can take any value, positive or negative, depending on the direction of the relationship between the two variables, while correlation is always between -1 and 1, where -1 indicates a perfect negative correlation, 0 indicates no correlation, and 1 indicates a perfect positive correlation.\n",
    "\n",
    "Standardization: Correlation is standardized by dividing covariance by the product of the standard deviations of the two variables, which makes it more comparable across different datasets and variables with different scales.\n",
    "\n",
    "In statistical analysis, both covariance and correlation are used to measure the strength and direction of the relationship between two variables. Covariance is useful for identifying the direction of the relationship between two variables, but it is difficult to compare the magnitude of covariance across different variables and datasets due to differences in scale. Correlation, on the other hand, provides a standardized measure of the relationship between two variables, which allows for easier comparison across different datasets and variables with different scales.\n",
    "\n",
    "Both measures are used in regression analysis, hypothesis testing, and other statistical modeling techniques to understand the relationship between variables and make predictions based on that relationship. For example, correlation can be used to identify variables that are strongly related to a target variable, which can be used as predictors in a regression model. Covariance, on the other hand, can be used to assess the relationship between two variables in the absence of other variables, but it is less useful for predicting the value of one variable based on another."
   ]
  },
  {
   "cell_type": "code",
   "execution_count": null,
   "id": "7b51492a-550a-4b29-afca-a2f21c144c74",
   "metadata": {},
   "outputs": [],
   "source": [
    "The formula for calculating the sample mean is:\n",
    "\n",
    "sample mean = (sum of all values in the sample) / (number of values in the sample)\n",
    "\n",
    "In other words, you add up all the values in the sample and divide the result by the number of values in the sample.\n",
    "\n",
    "Here's an example calculation for a dataset:\n",
    "\n",
    "Suppose we have the following sample of 10 scores: 8, 6, 7, 9, 5, 6, 8, 7, 9, 6.\n",
    "\n",
    "To calculate the sample mean, we add up all the values and divide by the number of values:\n",
    "\n",
    "(8 + 6 + 7 + 9 + 5 + 6 + 8 + 7 + 9 + 6) / 10 = 71 / 10 = 7.1\n",
    "\n",
    "So the sample mean for this dataset is 7.1."
   ]
  },
  {
   "cell_type": "code",
   "execution_count": null,
   "id": "bb668664-fa33-4827-b71c-1028b9832eea",
   "metadata": {},
   "outputs": [],
   "source": [
    "For a normal distribution, the mean, median, and mode are all equal to each other. In other words, they are all measures of the same central tendency.\n",
    "\n",
    "This is because the normal distribution is a symmetric distribution, with the highest frequency of values clustered around the center of the distribution. As a result, the mean, median, and mode all fall at the same point in the distribution.\n",
    "\n",
    "This property of the normal distribution is one of the reasons why it is widely used in statistics and data analysis, as it allows for easy interpretation and comparison of central tendency measures."
   ]
  },
  {
   "cell_type": "code",
   "execution_count": null,
   "id": "288a8773-193b-49d6-9d69-41706183b4e1",
   "metadata": {},
   "outputs": [],
   "source": [
    "Covariance and correlation are both measures of the relationship between two variables, but they have some important differences:\n",
    "\n",
    "Definition: Covariance measures how two variables vary together, while correlation measures how two variables are related to each other.\n",
    "\n",
    "Units: Covariance is measured in the units of the two variables being compared, while correlation is a unitless measure that ranges from -1 to 1.\n",
    "\n",
    "Interpretation: Covariance can take any value, positive or negative, depending on the direction of the relationship between the two variables, while correlation is always between -1 and 1, where -1 indicates a perfect negative correlation, 0 indicates no correlation, and 1 indicates a perfect positive correlation.\n",
    "\n",
    "Standardization: Correlation is standardized by dividing covariance by the product of the standard deviations of the two variables, which makes it more comparable across different datasets and variables with different scales."
   ]
  },
  {
   "cell_type": "code",
   "execution_count": null,
   "id": "00d3af71-5e5e-4126-9e57-09eca95f3a41",
   "metadata": {},
   "outputs": [],
   "source": [
    "Outliers can have a significant impact on measures of central tendency and dispersion. Here are some examples:\n",
    "\n",
    "Mean: Outliers can pull the mean away from the center of the data. For example, consider the following dataset: [10, 20, 30, 40, 50, 500]. The mean of this dataset is 100, but the outlier value of 500 is causing the mean to be much higher than the values in the rest of the dataset."
   ]
  },
  {
   "cell_type": "code",
   "execution_count": null,
   "id": "816a2eb0-5826-4015-99e9-98e33249ba90",
   "metadata": {},
   "outputs": [],
   "source": []
  }
 ],
 "metadata": {
  "kernelspec": {
   "display_name": "Python 3 (ipykernel)",
   "language": "python",
   "name": "python3"
  },
  "language_info": {
   "codemirror_mode": {
    "name": "ipython",
    "version": 3
   },
   "file_extension": ".py",
   "mimetype": "text/x-python",
   "name": "python",
   "nbconvert_exporter": "python",
   "pygments_lexer": "ipython3",
   "version": "3.10.8"
  }
 },
 "nbformat": 4,
 "nbformat_minor": 5
}
