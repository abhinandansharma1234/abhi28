{
 "cells": [
  {
   "cell_type": "code",
   "execution_count": null,
   "id": "3fcfc27d-a803-4cd0-a4c7-7ea55cbfab80",
   "metadata": {},
   "outputs": [],
   "source": [
    "A tuple in programming is an ordered, immutable, and heterogeneous collection of elements. The main characteristics of a tuple are:\n",
    "\n",
    "Order: Tuples maintain the order of elements, so the first element is stored first and so on.\n",
    "\n",
    "Immutability: Once a tuple is created, its elements cannot be modified or changed.\n",
    "\n",
    "Heterogeneous: Tuples can contain elements of different data types, such as integers, strings, and others.\n",
    "\n",
    "Indexed: Tuples are indexed, meaning that elements can be accessed using their index number.\n",
    "\n",
    "Fixed Size: The size of a tuple is fixed and cannot be changed. To add or remove elements, a new tuple must be created.\n",
    "No ,Tuple is immutable.\n"
   ]
  },
  {
   "cell_type": "code",
   "execution_count": null,
   "id": "2eb70789-1681-4580-9a1e-c5ad1ca70ff6",
   "metadata": {},
   "outputs": [],
   "source": [
    "In Python, tuples have two built-in methods:\n",
    "\n",
    "a.count(): This method returns the number of occurrences of a specified element in a tuple.\n",
    "Example:\n",
    "numbers = (1, 2, 3, 2, 4, 2)\n",
    "print(numbers.count(2)) \n",
    "b.index(): This method returns the index of the first occurrence of a specified element in a tuple.\n",
    "Example:\n",
    "    numbers = (1, 2, 3, 4)\n",
    "print(numbers.index(3))\n",
    "Tuples have limited methods compared to lists because they are immutable, meaning that their elements cannot be changed. Lists, on the other hand, are mutable and can have more methods to manipulate their elements. As a result, tuples are generally used to store fixed data, while lists are used to store dynamic data."
   ]
  },
  {
   "cell_type": "code",
   "execution_count": 5,
   "id": "5c1d4d05-3308-4099-8094-07816680cd78",
   "metadata": {},
   "outputs": [],
   "source": [
    "Set collection datatypes in python do not allow duplicate items.Example of code below\n",
    "set = {1, 1, 1, 2, 1, 3, 1, 4, 2, 1, 2, 2, 2, 3, 2, 4, 3, 1, 3, 2, 3, 3, 3, 4, 4, 1, 4, 2, 4, 3, 4, 4}"
   ]
  },
  {
   "cell_type": "code",
   "execution_count": 6,
   "id": "8721b211-c603-4238-9de1-1f555fb2c374",
   "metadata": {},
   "outputs": [
    {
     "data": {
      "text/plain": [
       "{1, 2, 3, 4}"
      ]
     },
     "execution_count": 6,
     "metadata": {},
     "output_type": "execute_result"
    }
   ],
   "source": [
    "set"
   ]
  },
  {
   "cell_type": "code",
   "execution_count": null,
   "id": "1b409da6-9b04-4181-ba8d-c5576556836f",
   "metadata": {},
   "outputs": [],
   "source": [
    "In Python, sets have two built-in methods for combining two or more sets: union() and update(). The difference between these two methods is as follows:\n",
    "\n",
    "a.union() method: The union() method returns a set that contains all the unique elements from both sets. The original sets are not modified.\n",
    "Example:set1 = {1, 2, 3}\n",
    "set2 = {3, 4, 5}\n",
    "set3 = set1.union(set2)\n",
    "print(set3)\n",
    "\n",
    "update() method: The update() method adds all the elements of one set to another set. The original set is modified.\n",
    "Example:\n",
    "    set1 = {1, 2, 3}\n",
    "set2 = {3, 4, 5}\n",
    "set1.update(set2)\n",
    "print(set1)\n"
   ]
  },
  {
   "cell_type": "code",
   "execution_count": null,
   "id": "09403a57-3293-4bdd-9471-d65a1ebcae0e",
   "metadata": {},
   "outputs": [],
   "source": [
    "A dictionary in Python is an unordered collection of key-value pairs, where each key is associated with a value. A dictionary is defined using curly braces {}, and each key-value pair is separated by a colon :. The keys in a dictionary must be unique and of any data type, while the values can be of any data type and can be repeated.\n",
    "\n",
    "Example:person = {'name': 'Abhinandan', 'age': 25, 'city': 'Jammu'}\n",
    "print(person['name'])  # Output: Abhinandan\n",
    "print(person['age'])  # Output: 25\n",
    "A dictionary in Python is unordered, meaning that the elements are not stored in a specific order. The order in which elements are added to a dictionary may not be the same as the order in which they are retrieved. This means that a dictionary does not have a defined index and cannot be accessed using an index number."
   ]
  },
  {
   "cell_type": "code",
   "execution_count": null,
   "id": "f34510da-df17-4171-aa03-814e22395f44",
   "metadata": {},
   "outputs": [],
   "source": [
    "Yes, it is possible to create a nested dictionary in Python. A nested dictionary is a dictionary that contains another dictionary as its value. This allows you to create complex data structures with multiple levels of hierarchy.\n",
    "\n",
    "Example:person = {\n",
    "    'name': 'Abhinandan',\n",
    "    'details': {\n",
    "        'age': 25,\n",
    "        'city': 'Jammu'\n",
    "    }\n",
    "}\n",
    "print(person['details']['age'])  # Output: 25"
   ]
  },
  {
   "cell_type": "code",
   "execution_count": 10,
   "id": "06eff6b7-4b39-4ee7-ae1c-af3c76738281",
   "metadata": {},
   "outputs": [
    {
     "name": "stdout",
     "output_type": "stream",
     "text": [
      "{'language': ['Python', 'Machine Learning', 'Deep Learning']}\n"
     ]
    }
   ],
   "source": [
    "dict1 = {}\n",
    "dict1.setdefault('language', ['Python', 'Machine Learning', 'Deep Learning'])\n",
    "print(dict1) # Output: {'topics': ['Python', 'Machine Learning', 'Deep Learning']}"
   ]
  },
  {
   "cell_type": "code",
   "execution_count": null,
   "id": "4ea19d34-831a-40b5-aa7e-6bb3c06bc01b",
   "metadata": {},
   "outputs": [],
   "source": [
    "In Python, dictionaries have three view objects: keys(), values(), and items(). These methods allow you to access different aspects of the dictionary, such as its keys, values, or both keys and values.\n",
    "\n",
    "Here's an example of using the three view objects in the dict1 dictionary:\n",
    "dict1 = {'Sport': 'Cricket' , 'Teams': ['India', 'Australia', 'England', 'South Africa', 'Sri Lanka', 'New Zealand']}\n",
    "\n",
    "# view objects for keys\n",
    "keys = dict1.keys()\n",
    "print(\"keys:\", keys)  # Output: keys: dict_keys(['Sport', 'Teams'])\n",
    "\n",
    "# view objects for values\n",
    "values = dict1.values()\n",
    "print(\"values:\", values)  # Output: values: dict_values(['Cricket', ['India', 'Australia', 'England', 'South Africa', 'Sri Lanka', 'New Zealand']])\n",
    "\n",
    "# view objects for both keys and values\n",
    "items = dict1.items()\n",
    "print(\"items:\", items)  # Output: items: dict_items([('Sport', 'Cricket'), ('Teams', ['India', 'Australia', 'England', 'South Africa', 'Sri Lanka', 'New Zealand'])])"
   ]
  }
 ],
 "metadata": {
  "kernelspec": {
   "display_name": "Python 3 (ipykernel)",
   "language": "python",
   "name": "python3"
  },
  "language_info": {
   "codemirror_mode": {
    "name": "ipython",
    "version": 3
   },
   "file_extension": ".py",
   "mimetype": "text/x-python",
   "name": "python",
   "nbconvert_exporter": "python",
   "pygments_lexer": "ipython3",
   "version": "3.10.8"
  }
 },
 "nbformat": 4,
 "nbformat_minor": 5
}
