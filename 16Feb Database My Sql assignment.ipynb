{
 "cells": [
  {
   "cell_type": "code",
   "execution_count": null,
   "id": "3381f548-f7b3-490d-80b4-3dc3d6199258",
   "metadata": {},
   "outputs": [],
   "source": [
    "A database is a structured collection of data that is organized and managed in a way that allows for efficient storage, retrieval, and manipulation of information. A database can be as simple as a list of names and addresses, or as complex as a multi-terabyte system used to store and analyze large volumes of data.\n",
    "\n",
    "There are two main types of databases: SQL and NoSQL. Here is a brief differentiation between the two:\n",
    "\n",
    "SQL Databases:\n",
    "\n",
    "SQL (Structured Query Language) databases are traditional relational databases that use tables to store data.\n",
    "They are highly structured and follow a schema, which defines the fields and data types for each table.\n",
    "SQL databases are generally used for storing structured data with well-defined relationships between different pieces of data.\n",
    "Examples of popular SQL databases include MySQL, PostgreSQL, and Oracle.\n",
    "NoSQL Databases:\n",
    "\n",
    "NoSQL (Not only SQL) databases are non-relational databases that do not use tables to store data.\n",
    "They are highly flexible and can handle a variety of unstructured data types, including JSON, XML, and key-value pairs.\n",
    "NoSQL databases are generally used for storing large volumes of unstructured or semi-structured data with less defined relationships between different pieces of data.\n",
    "Examples of popular NoSQL databases include MongoDB, Cassandra, and Redis."
   ]
  },
  {
   "cell_type": "code",
   "execution_count": null,
   "id": "c93ed10a-c0c3-4cf9-a0cb-ba7dbd91bc73",
   "metadata": {},
   "outputs": [],
   "source": [
    "DDL stands for Data Definition Language, which is a set of SQL commands used to create, modify, and delete database structures such as tables, views, indexes, and procedures. DDL commands are used to define the database schema and are typically run by database administrators or developers who are responsible for designing and maintaining the database.\n",
    "\n",
    "The following are the four main DDL commands in SQL:\n",
    "\n",
    "CREATE: This command is used to create a new database object, such as a table or view. For example, to create a new table called \"customers\" with columns for name, email, and phone number, you could use the following SQL command:\n",
    "\n",
    "CREATE TABLE customers (\n",
    "  name VARCHAR(50),\n",
    "  email VARCHAR(50),\n",
    "  phone VARCHAR(20)\n",
    ");\n",
    "DROP: This command is used to delete an existing database object, such as a table or view. For example, to delete the \"customers\" table created above, you could use the following SQL command:\n",
    "\n",
    "DROP TABLE customers;\n",
    "ALTER: This command is used to modify an existing database object, such as adding a new column to a table or changing the data type of a column. For example, to add a new column called \"address\" to the \"customers\" table, you could use the following SQL command:\n",
    "\n",
    "ALTER TABLE customers ADD COLUMN address VARCHAR(100);\n",
    "TRUNCATE: This command is used to delete all the data in a table, but it does not delete the table itself. For example, to delete all the data in the \"customers\" table without deleting the table itself, you could use the following SQL command:\n",
    "\n",
    "TRUNCATE TABLE customers;"
   ]
  },
  {
   "cell_type": "code",
   "execution_count": null,
   "id": "15223ba7-d755-4d51-976a-9e821babeb14",
   "metadata": {},
   "outputs": [],
   "source": [
    "DML stands for Data Manipulation Language, which is a set of SQL commands used to manipulate data within a database. DML commands are used to add, update, and delete data from tables and are typically run by application developers or users who are responsible for working with the data.\n",
    "\n",
    "The following are the three main DML commands in SQL:\n",
    "\n",
    "INSERT: This command is used to add new data to a table. For example, to insert a new record into a table called \"customers\" with values for the name, email, and phone number columns, you could use the following SQL command:\n",
    "\n",
    "INSERT INTO customers (name, email, phone) VALUES ('John Smith', 'john@example.com', '555-1234');\n",
    "UPDATE: This command is used to modify existing data in a table. For example, to update the phone number for a record in the \"customers\" table with the name \"John Smith\", you could use the following SQL command:\n",
    "\n",
    "UPDATE customers SET phone = '555-5678' WHERE name = 'John Smith';\n",
    "DELETE: This command is used to remove data from a table. For example, to delete a record from the \"customers\" table with the name \"John Smith\", you could use the following SQL command:\n",
    "\n",
    "DELETE FROM customers WHERE name = 'John Smith';"
   ]
  },
  {
   "cell_type": "code",
   "execution_count": null,
   "id": "f902bc56-2726-4b59-9725-3847078288ef",
   "metadata": {},
   "outputs": [],
   "source": [
    "Primary key and foreign key are both important concepts in relational database design. They are used to establish relationships between tables and ensure data integrity.\n",
    "\n",
    "A primary key is a column or combination of columns in a table that uniquely identifies each row in that table. The primary key must be unique and not null for each row in the table. It is used to enforce data integrity and ensure that each record in the table can be uniquely identified. For example, a table called \"employees\" might have a primary key column called \"employee_id\" that is used to uniquely identify each employee record.\n",
    "\n",
    "A foreign key is a column or combination of columns in one table that refers to the primary key in another table. It is used to establish a relationship between two tables and ensure referential integrity. The foreign key in one table is usually a reference to the primary key in another table. For example, a table called \"orders\" might have a foreign key column called \"customer_id\" that refers to the primary key column \"customer_id\" in a table called \"customers\". This establishes a relationship between the \"orders\" and \"customers\" tables and ensures that only valid customer IDs are used in the \"orders\" table.\n",
    "\n",
    "When a foreign key is defined, the database management system will ensure that only valid values are used for that key. This helps to prevent data inconsistencies and ensures that data is accurate and reliable. The use of primary and foreign keys is a key aspect of database design and is critical for building scalable and maintainable systems."
   ]
  },
  {
   "cell_type": "code",
   "execution_count": null,
   "id": "0362b4c8-e173-414f-8e09-3b9c47536ed0",
   "metadata": {},
   "outputs": [],
   "source": [
    "import mysql.connector\n",
    "\n",
    "mydb = mysql.connector.connect(\n",
    "  host=\"localhost\",\n",
    "  user=\"yourusername\",\n",
    "  password=\"yourpassword\",\n",
    "  database=\"yourdatabase\"\n",
    ")\n",
    "\n",
    "mycursor = mydb.cursor()\n",
    "\n",
    "mycursor.execute(\"SELECT * FROM customers\")\n",
    "\n",
    "myresult = mycursor.fetchall()\n",
    "\n",
    "for row in myresult:\n",
    "    print(row)"
   ]
  },
  {
   "cell_type": "code",
   "execution_count": null,
   "id": "e54aa721-64a5-4c5b-ae3f-c3b07601770b",
   "metadata": {},
   "outputs": [],
   "source": [
    "An SQL query typically consists of several clauses, which are used to specify the various aspects of the query, such as the tables to be queried, the conditions for selecting rows, the columns to be retrieved, and so on. The order of these clauses is important, as each clause affects the execution of the query in a specific way.\n",
    "\n",
    "The general order of execution of SQL clauses in a query is as follows:\n",
    "\n",
    "SELECT: This clause is used to specify the columns to be retrieved from the table(s). It is usually the first clause in a query, and it determines the shape of the result set.\n",
    "\n",
    "FROM: This clause is used to specify the table(s) to be queried. It usually follows the SELECT clause and specifies the data source for the query.\n",
    "\n",
    "JOIN: This clause is used to join two or more tables together, based on a specified condition. It is usually used to combine related data from multiple tables.\n",
    "\n",
    "WHERE: This clause is used to specify conditions for selecting rows from the table(s). It is usually placed after the FROM and JOIN clauses and before the GROUP BY and ORDER BY clauses.\n",
    "\n",
    "GROUP BY: This clause is used to group the result set by one or more columns. It is usually placed after the SELECT, FROM, and WHERE clauses.\n",
    "\n",
    "HAVING: This clause is used to specify conditions for selecting groups in the result set. It is similar to the WHERE clause, but operates on the grouped data rather than the individual rows.\n",
    "\n",
    "ORDER BY: This clause is used to sort the result set by one or more columns. It is usually the last clause in a query and is used to control the order in which the rows are returned."
   ]
  },
  {
   "cell_type": "code",
   "execution_count": null,
   "id": "53c0e916-0698-4223-b452-8b0844e1b52f",
   "metadata": {},
   "outputs": [],
   "source": []
  },
  {
   "cell_type": "code",
   "execution_count": null,
   "id": "8e22c85e-a821-458e-8405-9e458c25277f",
   "metadata": {},
   "outputs": [],
   "source": []
  },
  {
   "cell_type": "code",
   "execution_count": null,
   "id": "aca729a6-f009-44ff-aece-7355cb61abd2",
   "metadata": {},
   "outputs": [],
   "source": []
  }
 ],
 "metadata": {
  "kernelspec": {
   "display_name": "Python 3 (ipykernel)",
   "language": "python",
   "name": "python3"
  },
  "language_info": {
   "codemirror_mode": {
    "name": "ipython",
    "version": 3
   },
   "file_extension": ".py",
   "mimetype": "text/x-python",
   "name": "python",
   "nbconvert_exporter": "python",
   "pygments_lexer": "ipython3",
   "version": "3.10.8"
  }
 },
 "nbformat": 4,
 "nbformat_minor": 5
}
