{
 "cells": [
  {
   "cell_type": "code",
   "execution_count": 1,
   "id": "ea6dbb0f-17b8-4274-8c56-b4d5df6abffb",
   "metadata": {},
   "outputs": [
    {
     "name": "stdout",
     "output_type": "stream",
     "text": [
      "Encrypted Message: R$dzmg$gl$yvxlnv$z$Wzgz$Hxrvmgrhg.\n"
     ]
    }
   ],
   "source": [
    "def encrypt_message(message):\n",
    "    encryption_dict = {\n",
    "        'a': 'z', 'b': 'y', 'c': 'x', 'd': 'w', 'e': 'v',\n",
    "        'f': 'u', 'g': 't', 'h': 's', 'i': 'r', 'j': 'q',\n",
    "        'k': 'p', 'l': 'o', 'm': 'n', 'n': 'm', 'o': 'l',\n",
    "        'p': 'k', 'q': 'j', 'r': 'i', 's': 'h', 't': 'g',\n",
    "        'u': 'f', 'v': 'e', 'w': 'd', 'x': 'c', 'y': 'b',\n",
    "        'z': 'a', ' ': '$', 'A': 'Z', 'B': 'Y', 'C': 'X',\n",
    "        'D': 'W', 'E': 'V', 'F': 'U', 'G': 'T', 'H': 'S',\n",
    "        'I': 'R', 'J': 'Q', 'K': 'P', 'L': 'O', 'M': 'N',\n",
    "        'N': 'M', 'O': 'L', 'P': 'K', 'Q': 'J', 'R': 'I',\n",
    "        'S': 'H', 'T': 'G', 'U': 'F', 'V': 'E', 'W': 'D',\n",
    "        'X': 'C', 'Y': 'B', 'Z': 'A'\n",
    "    }\n",
    "\n",
    "    encrypted_message = \"\"\n",
    "    for char in message:\n",
    "        if char in encryption_dict:\n",
    "            if char == \" \":\n",
    "                encrypted_message += \"$\"\n",
    "            else:\n",
    "                encrypted_message += encryption_dict[char]\n",
    "        else:\n",
    "            encrypted_message += char\n",
    "    return encrypted_message\n",
    "\n",
    "message = \"I want to become a Data Scientist.\"\n",
    "encrypted_message = encrypt_message(message)\n",
    "print(f\"Encrypted Message: {encrypted_message}\")"
   ]
  },
  {
   "cell_type": "code",
   "execution_count": null,
   "id": "e99b23cb-f5f5-43da-b0c8-ec3871ca3c51",
   "metadata": {},
   "outputs": [],
   "source": []
  }
 ],
 "metadata": {
  "kernelspec": {
   "display_name": "Python 3 (ipykernel)",
   "language": "python",
   "name": "python3"
  },
  "language_info": {
   "codemirror_mode": {
    "name": "ipython",
    "version": 3
   },
   "file_extension": ".py",
   "mimetype": "text/x-python",
   "name": "python",
   "nbconvert_exporter": "python",
   "pygments_lexer": "ipython3",
   "version": "3.10.8"
  }
 },
 "nbformat": 4,
 "nbformat_minor": 5
}
