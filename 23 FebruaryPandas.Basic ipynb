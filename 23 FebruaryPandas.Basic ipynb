{
 "cells": [
  {
   "cell_type": "code",
   "execution_count": 1,
   "id": "d5eb36d6-e9aa-4e9b-97e1-e86a813deec2",
   "metadata": {},
   "outputs": [
    {
     "name": "stdout",
     "output_type": "stream",
     "text": [
      "0     4\n",
      "1     8\n",
      "2    15\n",
      "3    16\n",
      "4    23\n",
      "5    42\n",
      "dtype: int64\n"
     ]
    }
   ],
   "source": [
    "import pandas as pd\n",
    "\n",
    "data = [4, 8, 15, 16, 23, 42]\n",
    "series = pd.Series(data)\n",
    "print(series)"
   ]
  },
  {
   "cell_type": "code",
   "execution_count": 4,
   "id": "f8e24ff5-ee37-4ac0-8d2c-b2039eb158e8",
   "metadata": {},
   "outputs": [
    {
     "name": "stdout",
     "output_type": "stream",
     "text": [
      "0             4\n",
      "1             5\n",
      "2             6\n",
      "3    Abhinandan\n",
      "4        Vishnu\n",
      "5         Mansi\n",
      "6         Rahil\n",
      "7             7\n",
      "8             9\n",
      "9            33\n",
      "dtype: object\n"
     ]
    }
   ],
   "source": [
    "import pandas as pd\n",
    "var = [4,5,6,'Abhinandan','Vishnu','Mansi','Rahil',7,9,33]\n",
    "series = pd.Series(var)\n",
    "print(series)"
   ]
  },
  {
   "cell_type": "code",
   "execution_count": 5,
   "id": "6541973b-b6b4-48b9-9923-f95dd368586b",
   "metadata": {},
   "outputs": [
    {
     "name": "stdout",
     "output_type": "stream",
     "text": [
      "     Name  Age  Gender\n",
      "0   Alice   25  Female\n",
      "1     Bob   30    Male\n",
      "2  Claire   27  Female\n"
     ]
    }
   ],
   "source": [
    "import pandas as pd\n",
    "\n",
    "data = {'Name': ['Alice', 'Bob', 'Claire'],\n",
    "        'Age': [25, 30, 27],\n",
    "        'Gender': ['Female', 'Male', 'Female']}\n",
    "\n",
    "df = pd.DataFrame(data)\n",
    "print(df)"
   ]
  },
  {
   "cell_type": "code",
   "execution_count": null,
   "id": "535c3c06-550b-41be-99c7-6e00c7f17eaa",
   "metadata": {},
   "outputs": [],
   "source": [
    "In Pandas, a DataFrame is a two-dimensional tabular data structure that consists of rows and columns, where each column can have a different data type. It is similar to a spreadsheet or a SQL table, and can be thought of as a collection of Series objects.\n",
    "\n",
    "A Series, on the other hand, is a one-dimensional labeled array that can hold data of any type (e.g., integers, strings, booleans, etc.). It is similar to a column in a spreadsheet or a SQL table.\n",
    "\n",
    "Here's an example to illustrate the difference between DataFrame and Series:\n",
    "import pandas as pd\n",
    "\n",
    "# create a Series object\n",
    "my_series = pd.Series([10, 20, 30, 40, 50])\n",
    "print(my_series)\n",
    "\n",
    "# create a DataFrame object\n",
    "data = {'Name': ['Alice', 'Bob', 'Claire'],\n",
    "        'Age': [25, 30, 27],\n",
    "        'Gender': ['Female', 'Male', 'Female']}\n",
    "my_df = pd.DataFrame(data)\n",
    "print(my_df)\n",
    "\n"
   ]
  },
  {
   "cell_type": "code",
   "execution_count": null,
   "id": "a05ea554-2471-4969-9a5d-e57546507293",
   "metadata": {},
   "outputs": [],
   "source": [
    "There are many functions available in Pandas that you can use to manipulate data in a DataFrame. Here are some common functions:\n",
    "\n",
    "head(): Returns the first n rows of the DataFrame. This is useful for quickly inspecting the data and checking if it was loaded correctly. \n",
    "tail(): Returns the last n rows of the DataFrame. This is useful for checking the end of the data"
   ]
  },
  {
   "cell_type": "code",
   "execution_count": null,
   "id": "682fea66-c707-4ef3-8d6c-1bfdaf368d08",
   "metadata": {},
   "outputs": [],
   "source": [
    "Both Series and DataFrame are mutable in nature, which means that you can modify their values after they have been created.\n",
    "\n",
    "Panel, on the other hand, is an experimental data structure in Pandas that is intended to represent three-dimensional data. However, it has been deprecated since version 0.25.0 and replaced by the more powerful MultiIndex and groupby functions in DataFrame. Nevertheless, Panel was also mutable in nature."
   ]
  },
  {
   "cell_type": "code",
   "execution_count": 6,
   "id": "f68fc8c0-063f-48f6-893c-7395fddba2bc",
   "metadata": {},
   "outputs": [
    {
     "name": "stdout",
     "output_type": "stream",
     "text": [
      "     Name  Age  Gender\n",
      "0   Alice   25  Female\n",
      "1     Bob   30    Male\n",
      "2  Claire   27  Female\n"
     ]
    }
   ],
   "source": [
    "import pandas as pd\n",
    "\n",
    "# Create three Series\n",
    "name_series = pd.Series(['Alice', 'Bob', 'Claire'])\n",
    "age_series = pd.Series([25, 30, 27])\n",
    "gender_series = pd.Series(['Female', 'Male', 'Female'])\n",
    "\n",
    "# Concatenate the Series into a DataFrame\n",
    "df = pd.concat([name_series, age_series, gender_series], axis=1)\n",
    "\n",
    "# Assign column names to the DataFrame\n",
    "df.columns = ['Name', 'Age', 'Gender']\n",
    "\n",
    "# Print the DataFrame\n",
    "print(df)"
   ]
  },
  {
   "cell_type": "code",
   "execution_count": null,
   "id": "928aaeda-1baa-44fb-a37b-d600cbb93bdb",
   "metadata": {},
   "outputs": [],
   "source": []
  },
  {
   "cell_type": "code",
   "execution_count": null,
   "id": "dc14301b-c367-4bac-bb65-205ffb8deedc",
   "metadata": {},
   "outputs": [],
   "source": []
  }
 ],
 "metadata": {
  "kernelspec": {
   "display_name": "Python 3 (ipykernel)",
   "language": "python",
   "name": "python3"
  },
  "language_info": {
   "codemirror_mode": {
    "name": "ipython",
    "version": 3
   },
   "file_extension": ".py",
   "mimetype": "text/x-python",
   "name": "python",
   "nbconvert_exporter": "python",
   "pygments_lexer": "ipython3",
   "version": "3.10.8"
  }
 },
 "nbformat": 4,
 "nbformat_minor": 5
}
