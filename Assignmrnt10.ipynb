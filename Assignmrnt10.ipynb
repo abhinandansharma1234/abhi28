{
 "cells": [
  {
   "cell_type": "code",
   "execution_count": null,
   "id": "a3c38df1-3020-40d6-8c57-04381333a8cb",
   "metadata": {},
   "outputs": [],
   "source": [
    "In Python, an exception is an event that occurs during the execution of a program and disrupts the normal flow of instructions. It indicates a runtime error, such as division by zero, accessing an out-of-bounds list element, or using an undefined variable.\n",
    "\n",
    "The difference between exceptions and syntax errors is that syntax errors are errors in the syntax of the code, that is, the code does not conform to the rules of the Python language. These errors are detected before the code is executed, and the interpreter raises a SyntaxError. On the other hand, exceptions occur during the execution of the code, and they indicate a runtime error, such as a divide-by-zero error or an attempt to access a list element that doesn't exist.\n",
    "\n",
    "In Python, it is possible to handle exceptions using try-except blocks. This allows you to catch exceptions and take appropriate action when they occur, instead of letting the program terminate with an error. The try block contains the code that might raise an exception, and the except block contains the code that will be executed if an exception occurs."
   ]
  },
  {
   "cell_type": "code",
   "execution_count": null,
   "id": "7a5b69a7-30b2-42fa-81f0-399ba3520055",
   "metadata": {},
   "outputs": [],
   "source": [
    "When an exception is not handled, the program terminates immediately and an error message is displayed. This is known as an unhandled exception. The error message includes the type of the exception, a description of the error, and the traceback, which shows the sequence of function calls that led to the exception.\n",
    "\n",
    "For example, consider the following code:\n",
    "def divide(a, b):\n",
    "    return a / b\n",
    "\n",
    "x = 5\n",
    "y = 0\n",
    "result = divide(x, y)\n",
    "print(result)\n",
    "When this code is executed, it raises a ZeroDivisionError exception because the function divide is trying to divide by zero. If this exception is not handled, the program terminates immediately and produces the following error message:\n",
    "\n",
    "ZeroDivisionError: division by zero"
   ]
  },
  {
   "cell_type": "code",
   "execution_count": null,
   "id": "597928ea-df5a-42d7-aadb-b200096973bd",
   "metadata": {},
   "outputs": [],
   "source": [
    "In Python, the try statement is used to handle exceptions that might occur in a block of code. The else clause is executed if and only if no exceptions were raised in the try block. The finally clause is executed regardless of whether an exception was raised or not, and it is used to clean up resources or release resources, such as closing a file or a network connection.\n",
    "\n",
    "Here is an example that demonstrates the use of the try, else, and finally clauses:\n",
    "def divide(a, b):\n",
    "    try:\n",
    "        result = a / b\n",
    "    except ZeroDivisionError:\n",
    "        print(\"Error: division by zero\")\n",
    "    else:\n",
    "        print(\"Result is\", result)\n",
    "    finally:\n",
    "        print(\"Exiting the function\")\n",
    "\n",
    "x = 5\n",
    "y = 2\n",
    "divide(x, y)\n",
    "\n",
    "x = 5\n",
    "y = 0\n",
    "divide(x, y)\n",
    "In this example, the function divide takes two arguments, a and b, and returns a / b. The function uses the try statement to handle a ZeroDivisionError exception that might occur if b is zero. The else clause is executed if no exceptions were raised in the try block, and it prints the result of the division. The finally clause is executed regardless of whether an exception was raised or not, and it prints a message indicating that the function is exiting.\n",
    "\n",
    "When the code is executed, the first call to divide with x = 5 and y = 2 produces the following output:\n",
    "\n",
    "Result is 2.5\n",
    "Exiting the function\n",
    "The second call to divide with x = 5 and y = 0 raises a ZeroDivisionError exception, which is handled by the except block. The output of this call is:\n",
    "\n",
    "Error: division by zero\n",
    "Exiting the function\n",
    "\n",
    "\n",
    "\n"
   ]
  },
  {
   "cell_type": "code",
   "execution_count": null,
   "id": "218ccf5b-0a2a-48df-bd71-ea11e5568e9a",
   "metadata": {},
   "outputs": [],
   "source": [
    "Custom exceptions are exceptions that you can define yourself in Python. You can create custom exceptions to handle specific errors that are unique to your application or to make the error handling code more readable and organized.\n",
    "\n",
    "Custom exceptions are defined using the Exception class or a subclass of the Exception class. The advantage of using a custom exception is that you can raise an exception that has a specific error message and error code, which makes it easier to understand the cause of the error and handle it in a more specific way.\n",
    "\n",
    "Here is an example that demonstrates how to define and use a custom exception:\n",
    "class CustomException(Exception):\n",
    "    def __init__(self, message, code):\n",
    "        self.message = message\n",
    "        self.code = code\n",
    "\n",
    "def divide(a, b):\n",
    "    if b == 0:\n",
    "        raise CustomException(\"division by zero\", 1)\n",
    "    return a / b\n",
    "\n",
    "try:\n",
    "    result = divide(5, 0)\n",
    "    print(result)\n",
    "except CustomException as e:\n",
    "    print(\"Error:\", e.message, \"(code\", e.code, \")\")"
   ]
  },
  {
   "cell_type": "code",
   "execution_count": null,
   "id": "ad402c11-a213-4474-805c-6a8fca3be538",
   "metadata": {},
   "outputs": [],
   "source": [
    "Here is an example of how to create a custom exception class and use it to handle an exception:\n",
    "\n",
    "class CustomException(Exception):\n",
    "    def __init__(self, message, code):\n",
    "        self.message = message\n",
    "        self.code = code\n",
    "\n",
    "def divide(a, b):\n",
    "    if b == 0:\n",
    "        raise CustomException(\"division by zero\", 1)\n",
    "    return a / b\n",
    "\n",
    "try:\n",
    "    result = divide(5, 0)\n",
    "    print(result)\n",
    "except CustomException as e:\n",
    "    print(\"Error:\", e.message, \"(code\", e.code, \")\")"
   ]
  },
  {
   "cell_type": "code",
   "execution_count": null,
   "id": "7efb3de8-9273-4576-891f-1efe106d27ad",
   "metadata": {},
   "outputs": [],
   "source": []
  },
  {
   "cell_type": "code",
   "execution_count": null,
   "id": "34d85f17-2679-473f-a928-92272413e8c3",
   "metadata": {},
   "outputs": [],
   "source": []
  },
  {
   "cell_type": "code",
   "execution_count": null,
   "id": "209a5e51-8ccd-48ab-82a5-4a2b46e7b2e8",
   "metadata": {},
   "outputs": [],
   "source": []
  },
  {
   "cell_type": "code",
   "execution_count": null,
   "id": "5350aa4b-8c1d-41f6-a8c4-ef58009e299e",
   "metadata": {},
   "outputs": [],
   "source": []
  },
  {
   "cell_type": "code",
   "execution_count": null,
   "id": "bfeafc3a-6779-4f22-b5ff-9f376ae6d827",
   "metadata": {},
   "outputs": [],
   "source": []
  },
  {
   "cell_type": "code",
   "execution_count": null,
   "id": "6ba0390c-a148-440d-9b13-2ed1f420e99c",
   "metadata": {},
   "outputs": [],
   "source": []
  },
  {
   "cell_type": "code",
   "execution_count": null,
   "id": "d20c3854-2fb2-4b46-994c-6d8ad7521773",
   "metadata": {},
   "outputs": [],
   "source": []
  }
 ],
 "metadata": {
  "kernelspec": {
   "display_name": "",
   "name": ""
  },
  "language_info": {
   "name": ""
  }
 },
 "nbformat": 4,
 "nbformat_minor": 5
}
