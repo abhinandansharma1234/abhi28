{
 "cells": [
  {
   "cell_type": "code",
   "execution_count": null,
   "id": "c1c17d8c-ac1c-42b2-bd92-fb8412a9305b",
   "metadata": {},
   "outputs": [],
   "source": [
    "We use the Exception class as a base class when creating a custom exception because it provides a well-defined interface and behavior that is expected of an exception in Python. By inheriting from the Exception class, our custom exception can take advantage of this pre-defined behavior, such as being able to raise and handle the exception in a consistent and predictable way. Additionally, by inheriting from the Exception class, our custom exception can be caught using a broader except clause that catches all exceptions, or a more specific clause that only catches our custom exception or its subclasses."
   ]
  },
  {
   "cell_type": "code",
   "execution_count": null,
   "id": "20a54c96-2eb0-4037-93a7-d99cd492eb4d",
   "metadata": {},
   "outputs": [],
   "source": [
    "The ArithmeticError class is a base class for all errors that occur during arithmetic calculations in Python. Some of the errors that are defined in this class include:\n",
    "\n",
    "ZeroDivisionError: This error is raised when an attempt is made to divide a number by zero. For example:\n",
    "    x = 10\n",
    "y = 0\n",
    "z = x / y \n",
    "In this example, a ZeroDivisionError is raised because we are trying to divide the number 10 by zero, which is not a valid mathematical operation.\n",
    "\n",
    "OverflowError: This error is raised when the result of an arithmetic calculation is too large to be represented by the available number of bits. For example:\n",
    "    x = 2 ** 1000\n",
    "y = x * x * x * x * x \n",
    "In this example, a OverflowError is raised because the result of multiplying the large number x by itself five times is too large to be represented in Python's native data types."
   ]
  },
  {
   "cell_type": "code",
   "execution_count": null,
   "id": "236c75a6-a7d1-4390-a5a6-cb562c634091",
   "metadata": {},
   "outputs": [],
   "source": [
    "The LookupError class is a base class for all errors that occur when a specified key or index cannot be found in a container or sequence. It is used to catch errors that occur when looking up values in dictionaries, lists, tuples, or other data structures.\n",
    "\n",
    "Two commonly used subclasses of LookupError are KeyError and IndexError:\n",
    "\n",
    "KeyError: This error is raised when a dictionary key is not found. For example:\n",
    "\n",
    "d = {'a': 1, 'b': 2, 'c': 3}\n",
    "print(d['d'])\n",
    "IndexError: This error is raised when a list or tuple index is out of range. For example:\n",
    "\n",
    "lst = [1, 2, 3]\n",
    "print(lst[3])\n",
    "In this example, we are trying to access the value at index 3 in the list lst. However, since the list only has three elements (at indices 0, 1, and 2), a IndexError is raised.\n",
    "\n",
    "Both KeyError and IndexError are subclasses of LookupError, which means that they inherit all the properties and methods of the LookupError class, and can be caught using a catch-all except block for LookupError or by using a more specific except block for the particular error being raised.\n",
    "\n",
    "\n",
    "\n"
   ]
  },
  {
   "cell_type": "code",
   "execution_count": null,
   "id": "d66c2bbb-2662-44a3-a98a-1cdde92a5dab",
   "metadata": {},
   "outputs": [],
   "source": [
    "ere are some best practices for exception handling in Python:\n",
    "\n",
    "Always catch specific exceptions rather than catching all exceptions using a bare except clause.\n",
    "Keep the try block as small as possible to only cover the code that can raise an exception.\n",
    "Use multiple except blocks to handle different types of exceptions.\n",
    "Always include an else block after the except block(s) to handle the code that should run if no exception occurs.\n",
    "Use finally block to execute any code that should always run, regardless of whether an exception was raised or not.\n",
    "Use logging to record exceptions, rather than printing them to the console.\n",
    "Avoid raising a generic Exception type; instead, create your own custom exception classes to clearly communicate the error to the caller.\n",
    "Be mindful of where you raise an exception, especially in a library, it may have unexpected effects on the caller's code.\n",
    "Use context managers like with statements to handle the resource allocation and cleanup as they automatically handle exceptions raised inside them."
   ]
  },
  {
   "cell_type": "code",
   "execution_count": null,
   "id": "05ac20f1-61c7-49c2-be90-1da0cdd1ab5b",
   "metadata": {},
   "outputs": [],
   "source": []
  },
  {
   "cell_type": "code",
   "execution_count": null,
   "id": "d03c927c-7939-4c65-880b-b3e89af918b6",
   "metadata": {},
   "outputs": [],
   "source": []
  },
  {
   "cell_type": "code",
   "execution_count": null,
   "id": "0038e05f-a808-4c8e-8acd-ca0d8b4ae630",
   "metadata": {},
   "outputs": [],
   "source": []
  },
  {
   "cell_type": "code",
   "execution_count": null,
   "id": "0c8ad26e-6b90-4cc8-97f9-93064c9645c8",
   "metadata": {},
   "outputs": [],
   "source": []
  },
  {
   "cell_type": "code",
   "execution_count": null,
   "id": "f5314d81-5eae-473f-90a7-411b09611552",
   "metadata": {},
   "outputs": [],
   "source": []
  }
 ],
 "metadata": {
  "kernelspec": {
   "display_name": "Python 3 (ipykernel)",
   "language": "python",
   "name": "python3"
  },
  "language_info": {
   "codemirror_mode": {
    "name": "ipython",
    "version": 3
   },
   "file_extension": ".py",
   "mimetype": "text/x-python",
   "name": "python",
   "nbconvert_exporter": "python",
   "pygments_lexer": "ipython3",
   "version": "3.10.8"
  }
 },
 "nbformat": 4,
 "nbformat_minor": 5
}
