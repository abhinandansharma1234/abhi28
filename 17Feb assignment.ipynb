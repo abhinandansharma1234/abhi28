{
 "cells": [
  {
   "cell_type": "code",
   "execution_count": 12,
   "id": "d4e219ab-115d-4f26-92e8-f938b2d0df4e",
   "metadata": {},
   "outputs": [],
   "source": [
    "MongoDB is a popular document-oriented NoSQL database that stores data in a flexible, JSON-like format called BSON (Binary JSON). It is a non-relational database, which means that it does not use the traditional table-based structure of a SQL database. Instead, MongoDB stores data in collections of documents, where each document is a JSON-like object with key-value pairs.\n",
    "\n",
    "Non-relational databases, also known as NoSQL databases, are designed to handle unstructured or semi-structured data that does not fit neatly into a table structure. They are highly scalable and offer flexible data models that can accommodate changing data requirements. They also provide high performance and availability, making them a good choice for large-scale applications that require fast, reliable data access.\n",
    "\n",
    "MongoDB is often preferred over SQL databases in scenarios where:\n",
    "\n",
    "You have large amounts of unstructured data: MongoDB is optimized for handling unstructured and semi-structured data, making it a good choice for applications that generate large amounts of complex data.\n",
    "\n",
    "You need high scalability: MongoDB is highly scalable and can handle large amounts of data and high traffic loads. It also allows for easy sharding and replication, making it easy to scale horizontally.\n",
    "\n",
    "You need flexible data models: With MongoDB, you can store data in a flexible, dynamic schema that can be changed on the fly without downtime. This makes it ideal for applications with rapidly changing data requirements.\n",
    "\n",
    "You need to handle geospatial data: MongoDB has built-in support for geospatial data, making it a good choice for location-based applications.\n",
    "\n",
    "You need real-time analytics: MongoDB provides real-time data analytics through its aggregation framework, which allows you to perform complex analytics queries in real-time.\n",
    "\n",
    "Overall, MongoDB is a great choice for applications that require scalability, flexibility, and high performance with unstructured data. However, it is not a one-size-fits-all solution and may not be the best option for applications with highly structured data or complex transactions."
   ]
  },
  {
   "cell_type": "code",
   "execution_count": null,
   "id": "aeb58eb6-1a44-4437-a7d8-e3c853ca5034",
   "metadata": {},
   "outputs": [],
   "source": [
    "MongoDB is a popular NoSQL document-oriented database that offers a range of features to support the storage and retrieval of data. Here are some of the key features of MongoDB:\n",
    "\n",
    "Document-oriented: MongoDB stores data in a document-oriented format, which is a flexible and schema-free data model. This allows developers to store data in a way that best represents the structure of the application data.\n",
    "\n",
    "Dynamic schema: MongoDB's dynamic schema allows for documents to have different fields, making it easy to accommodate changing data requirements over time. This also allows for faster development and iteration of applications.\n",
    "\n",
    "Rich query language: MongoDB provides a rich query language that includes support for complex queries, geospatial queries, and text search. It also supports full-text search, regular expressions, and more.\n",
    "\n",
    "High availability and scalability: MongoDB is designed to handle large amounts of data and high traffic loads, with built-in support for automatic sharding and replication. This makes it easy to scale horizontally by adding more nodes to the cluster."
   ]
  },
  {
   "cell_type": "code",
   "execution_count": null,
   "id": "6f4d5318-2312-43b6-9eb2-32ca6e6a734c",
   "metadata": {},
   "outputs": [],
   "source": [
    "from pymongo import MongoClient\n",
    "\n",
    "# Creating a MongoDB client\n",
    "client = MongoClient('mongodb://localhost:27017/')\n",
    "\n",
    "# Creating a new database called \"mydatabase\"\n",
    "mydb = client['mydatabase']\n",
    "\n",
    "# Creating a new collection called \"customers\"\n",
    "mycol = mydb['customers']\n",
    "\n",
    "# Adding a new document to the \"customers\" collection\n",
    "customer = { \"name\": \"John Doe\", \"address\": \"123 Main St\", \"city\": \"Anytown\", \"state\": \"CA\", \"zip\": \"12345\" }\n",
    "x = mycol.insert_one(customer)\n",
    "\n",
    "# Printing the ID of the new document\n",
    "print(x.inserted_id)"
   ]
  },
  {
   "cell_type": "code",
   "execution_count": null,
   "id": "e488b1e5-9b1b-4410-8096-e241e498a2ae",
   "metadata": {},
   "outputs": [],
   "source": [
    "# Importing the pymongo library\n",
    "from pymongo import MongoClient\n",
    "\n",
    "# Creating a MongoDB client\n",
    "client = MongoClient('mongodb://localhost:27017/')\n",
    "\n",
    "# Creating a new database called \"mydatabase\"\n",
    "mydb = client['mydatabase']\n",
    "\n",
    "# Creating a new collection called \"customers\"\n",
    "mycol = mydb['customers']\n",
    "\n",
    "# Inserting one record into the \"customers\" collection\n",
    "customer1 = { \"name\": \"Jane Doe\", \"address\": \"456 Main St\", \"city\": \"Anytown\", \"state\": \"CA\", \"zip\": \"12345\" }\n",
    "x = mycol.insert_one(customer1)\n",
    "\n",
    "# Inserting multiple records into the \"customers\" collection\n",
    "customers2 = [\n",
    "    { \"name\": \"Bob Smith\", \"address\": \"789 Main St\", \"city\": \"Anytown\", \"state\": \"CA\", \"zip\": \"12345\" },\n",
    "    { \"name\": \"Alice Johnson\", \"address\": \"1010 Main St\", \"city\": \"Anytown\", \"state\": \"CA\", \"zip\": \"12345\" },\n",
    "    { \"name\": \"Tom Davis\", \"address\": \"1111 Main St\", \"city\": \"Anytown\", \"state\": \"CA\", \"zip\": \"12345\" }\n",
    "]\n",
    "y = mycol.insert_many(customers2)\n",
    "\n",
    "# Using find() to print all records in the \"customers\" collection\n",
    "for customer in mycol.find():\n",
    "    print(customer)\n",
    "\n",
    "# Using find_one() to print the first record in the \"customers\" collection\n",
    "first_customer = mycol.find_one()\n",
    "print(first_customer)\n"
   ]
  },
  {
   "cell_type": "code",
   "execution_count": null,
   "id": "dc2154d3-179e-40b9-a98c-a4cd170b3c1b",
   "metadata": {},
   "outputs": [],
   "source": [
    "# Importing the pymongo library\n",
    "from pymongo import MongoClient\n",
    "\n",
    "# Creating a MongoDB client\n",
    "client = MongoClient('mongodb://localhost:27017/')\n",
    "\n",
    "# Getting a reference to the \"mydatabase\" database and the \"customers\" collection\n",
    "mydb = client['mydatabase']\n",
    "mycol = mydb['customers']\n",
    "\n",
    "# Finding all the documents where the \"city\" field is \"Anytown\"\n",
    "myquery = { \"city\": \"Anytown\" }\n",
    "mydocs = mycol.find(myquery)\n",
    "\n",
    "# Printing the results\n",
    "for doc in mydocs:\n",
    "    print(doc)\n"
   ]
  },
  {
   "cell_type": "code",
   "execution_count": null,
   "id": "c5d9d803-63ae-478c-8cf8-b012224146d8",
   "metadata": {},
   "outputs": [],
   "source": [
    "The sort() method in MongoDB is used to sort the results of a query. It takes one or more parameters, which are dictionaries that specify the sorting order for one or more fields. By default, the sort() method sorts the results in ascending order, but you can specify a descending order by using the -1 value.\n",
    "\n",
    "For example, let's say we have a collection of books, and we want to retrieve all the books in the collection sorted by their publication year in descending order. We can use the following code:\n"
   ]
  }
 ],
 "metadata": {
  "kernelspec": {
   "display_name": "Python 3 (ipykernel)",
   "language": "python",
   "name": "python3"
  },
  "language_info": {
   "codemirror_mode": {
    "name": "ipython",
    "version": 3
   },
   "file_extension": ".py",
   "mimetype": "text/x-python",
   "name": "python",
   "nbconvert_exporter": "python",
   "pygments_lexer": "ipython3",
   "version": "3.10.8"
  }
 },
 "nbformat": 4,
 "nbformat_minor": 5
}
