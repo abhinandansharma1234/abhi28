{
 "cells": [
  {
   "cell_type": "code",
   "execution_count": null,
   "id": "f4f3dbb9-6128-4ce3-bb3f-85af3b663600",
   "metadata": {},
   "outputs": [],
   "source": [
    "Flask is a popular Python web framework that allows developers to easily build web applications. It is a lightweight and flexible framework that is designed to be easy to use and maintain.\n",
    "\n",
    "Here are some advantages of using Flask:\n",
    "\n",
    "Easy to get started: Flask is simple to set up and use, making it a great choice for beginners or small projects.\n",
    "\n",
    "Flexible: Flask is highly customizable, allowing developers to create applications that are tailored to their specific needs.\n",
    "\n",
    "Lightweight: Flask is lightweight and doesn't have many dependencies, making it a good choice for applications that need to be fast and efficient.\n",
    "\n",
    "Extensible: Flask is highly extensible, with a large ecosystem of plugins and extensions that can be used to add new features and functionality to an application.\n",
    "\n",
    "Built-in development server: Flask has a built-in development server that makes it easy to test and debug applications.\n",
    "\n",
    "Integrated with other technologies: Flask can be easily integrated with other technologies, such as databases, ORMs, and authentication systems.\n",
    "\n",
    "Good documentation: Flask has excellent documentation that makes it easy for developers to learn and use the framework.\n",
    "\n",
    "Overall, Flask is a powerful and flexible framework that is well-suited for building web applications of all types and sizes."
   ]
  },
  {
   "cell_type": "code",
   "execution_count": null,
   "id": "6574f212-9a94-4c53-ab10-0b4e5ae42f7e",
   "metadata": {},
   "outputs": [],
   "source": [
    "from flask import Flask\n",
    "\n",
    "app = Flask(__name__)\n",
    "\n",
    "@app.route(\"/\")\n",
    "def hello_world():\n",
    "    return \"Hello, World!\"\n",
    "    \n",
    "\n",
    "if __name__==\"__main__\":\n",
    "    app.run(host=\"0.0.0.0\")\n"
   ]
  },
  {
   "cell_type": "code",
   "execution_count": null,
   "id": "d8a6379e-7d68-4907-bbe2-1622b7ac4de3",
   "metadata": {},
   "outputs": [],
   "source": [
    "In Flask, an app route is a URL pattern that is associated with a view function. When a user requests a specific URL, Flask uses the corresponding view function to generate a response.\n",
    "\n",
    "To define an app route in Flask, we use the @app.route decorator. For example, the following code defines an app route for the URL \"/hello\":\n",
    "\n",
    "from flask import Flask\n",
    "\n",
    "app = Flask(__name__)\n",
    "\n",
    "@app.route('/hello')\n",
    "def hello():\n",
    "    return 'Hello, World!'\n"
   ]
  },
  {
   "cell_type": "code",
   "execution_count": null,
   "id": "7c8fe43a-2c1a-405d-9428-ced7d808e678",
   "metadata": {},
   "outputs": [],
   "source": [
    "from flask import Flask\n",
    "\n",
    "app = Flask(__name__)\n",
    "\n",
    "@app.route(\"/welcome\")\n",
    "def welcome():\n",
    "    return \"Welcome to ABC Corporation\"\n",
    "\n",
    "@app.route(\"/\")\n",
    "def home():\n",
    "    return \"Company Name: ABC Corporation<br>Location: India<br>Contact Detail: 999-999-9999\"\n",
    "\n",
    "if __name__ == \"__main__\":\n",
    "    app.run(host=\"0.0.0.0\")"
   ]
  },
  {
   "cell_type": "code",
   "execution_count": null,
   "id": "60067258-13d6-4f61-9e9c-894a250a80fe",
   "metadata": {},
   "outputs": [],
   "source": []
  },
  {
   "cell_type": "code",
   "execution_count": null,
   "id": "3e89671e-fa87-454d-9fc2-593c1ffd6c00",
   "metadata": {},
   "outputs": [],
   "source": []
  },
  {
   "cell_type": "code",
   "execution_count": null,
   "id": "680f3c40-94d8-4cf6-8a91-8bf228f83ee6",
   "metadata": {},
   "outputs": [],
   "source": []
  },
  {
   "cell_type": "code",
   "execution_count": null,
   "id": "15236ec2-92fb-4036-9ded-bc920457bbac",
   "metadata": {},
   "outputs": [],
   "source": []
  }
 ],
 "metadata": {
  "kernelspec": {
   "display_name": "Python 3 (ipykernel)",
   "language": "python",
   "name": "python3"
  },
  "language_info": {
   "codemirror_mode": {
    "name": "ipython",
    "version": 3
   },
   "file_extension": ".py",
   "mimetype": "text/x-python",
   "name": "python",
   "nbconvert_exporter": "python",
   "pygments_lexer": "ipython3",
   "version": "3.10.8"
  }
 },
 "nbformat": 4,
 "nbformat_minor": 5
}
